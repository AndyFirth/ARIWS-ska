{
  "nbformat": 4,
  "nbformat_minor": 0,
  "metadata": {
    "kernelspec": {
      "display_name": "Casa",
      "language": "casa",
      "name": "casapy"
    },
    "language_info": {
      "mimetype": "text/plain",
      "name": "Casa"
    },
    "colab": {
      "name": "Standard flux calibrators.ipynb",
      "provenance": [],
      "toc_visible": true,
      "include_colab_link": true
    }
  },
  "cells": [
    {
      "cell_type": "markdown",
      "metadata": {
        "id": "view-in-github",
        "colab_type": "text"
      },
      "source": [
        "<a href=\"https://colab.research.google.com/github/rubyvanrooyen/ARIWS-Cookbook/blob/main/casa/Standard_flux_calibrators.ipynb\" target=\"_parent\"><img src=\"https://colab.research.google.com/assets/colab-badge.svg\" alt=\"Open In Colab\"/></a>"
      ]
    },
    {
      "cell_type": "markdown",
      "metadata": {
        "id": "qBp6R4JHHIcA"
      },
      "source": [
        "## Flux density values for standard flux calibrators\n",
        "\n",
        "To convert correlation coefficients to absolute flux densities"
      ]
    },
    {
      "cell_type": "code",
      "metadata": {
        "id": "G-JqJZhoIigE"
      },
      "source": [
        "import numpy as np"
      ],
      "execution_count": 1,
      "outputs": []
    },
    {
      "cell_type": "markdown",
      "metadata": {
        "id": "yaTsSGh4HIcB"
      },
      "source": [
        "### J0408-6545    \n",
        "RA: 04h08m20.4s     \n",
        "Decl: -65d45m09.6s"
      ]
    },
    {
      "cell_type": "markdown",
      "metadata": {
        "id": "SlgBEXlIHIcC"
      },
      "source": [
        "Coefficients: a=-0.9790, b=3.3662, c=-1.1216, d=0.0861     \n",
        "$log_{10}(S) = a + b*log_{10}(f) +c*log_{10}(f)^2 + d*log_{10}(f)^3$     \n",
        "with $S$ in Jy and $f$ in MHz"
      ]
    },
    {
      "cell_type": "code",
      "metadata": {
        "id": "8ssOjno4HIcD",
        "outputId": "f89ed6a2-4b97-428d-a6b9-d773c1036106",
        "colab": {
          "base_uri": "https://localhost:8080/",
          "height": 34
        }
      },
      "source": [
        "a=-0.9790\n",
        "b=3.3662\n",
        "c=-1.1216\n",
        "d=0.0861\n",
        "\n",
        "f = 1284.  # MHz (L-band)\n",
        "\n",
        "log_S = a + b*np.log10(f) + c*np.log10(f)**2 + d*np.log10(f)**3\n",
        "\n",
        "print('Calculated Stokes I for J0408-6545 {} [Jy]'.format(10**log_S))"
      ],
      "execution_count": 2,
      "outputs": [
        {
          "output_type": "stream",
          "text": [
            "Calculated Stokes I for J0408-6545 17.106349850349627 [Jy]\n"
          ],
          "name": "stdout"
        }
      ]
    },
    {
      "cell_type": "markdown",
      "metadata": {
        "id": "nKFRRv-4HIcI"
      },
      "source": [
        "```\n",
        "setjy(vis=msfile, field='J0408-6545', scalebychan=True, standard='manual', fluxdensity=[17.1,0,0,0])\n",
        "```"
      ]
    },
    {
      "cell_type": "markdown",
      "metadata": {
        "id": "07NXXibzHIcI"
      },
      "source": [
        "### J1939-6342    \n",
        "RA: 19h39m25.05s     \n",
        "Decl: -63d42m43.63s"
      ]
    },
    {
      "cell_type": "markdown",
      "metadata": {
        "id": "62MJTuTpHIcJ"
      },
      "source": [
        "Coefficients: a=-30.7667 b=26.4908 c=-7.0977 d=0.605334     \n",
        "$log_{10}(S) = a + b*log_{10}(f) +c*log_{10}(f)^2 + d*log_{10}(f)^3$     \n",
        "with $S$ in Jy and $f$ in MHz"
      ]
    },
    {
      "cell_type": "code",
      "metadata": {
        "id": "EdEuuIwlHIcK",
        "outputId": "d7683fc3-8524-4017-b2c5-fb64c67f6e24",
        "colab": {
          "base_uri": "https://localhost:8080/",
          "height": 34
        }
      },
      "source": [
        "a=-30.7667\n",
        "b=26.4908\n",
        "c=-7.0977\n",
        "d=0.605334\n",
        "\n",
        "f = 1284.  # MHz (L-band)\n",
        "\n",
        "log_S = a + b*np.log10(f) + c*np.log10(f)**2 + d*np.log10(f)**3\n",
        "\n",
        "print('Calculated Stokes I for J1939-6342 {} [Jy]'.format(10**log_S))"
      ],
      "execution_count": 3,
      "outputs": [
        {
          "output_type": "stream",
          "text": [
            "Calculated Stokes I for J1939-6342 15.091760410970755 [Jy]\n"
          ],
          "name": "stdout"
        }
      ]
    },
    {
      "cell_type": "markdown",
      "metadata": {
        "id": "pPyqbEPmHIcP"
      },
      "source": [
        "```\n",
        "setjy(vis=msfile, field='J1939-6342', scalebychan=True, standard='Perley-Butler 2010', fluxdensity=-1)\n",
        "```"
      ]
    },
    {
      "cell_type": "markdown",
      "metadata": {
        "id": "JmWhUTQXHIcP"
      },
      "source": [
        "### J1331+3030    \n",
        "RA: 13h31m08.3s     \n",
        "Decl: +30d30m32.96s"
      ]
    },
    {
      "cell_type": "markdown",
      "metadata": {
        "id": "V54mCtkfHIcQ"
      },
      "source": [
        "```\n",
        "setjy(vis=msfile, field='3C286', scalebychan=True, standard='Perley-Butler 2013', fluxdensity=-1)\n",
        "```"
      ]
    },
    {
      "cell_type": "code",
      "metadata": {
        "id": "c6ViUaMxHIcQ"
      },
      "source": [
        ""
      ],
      "execution_count": 3,
      "outputs": []
    }
  ]
}