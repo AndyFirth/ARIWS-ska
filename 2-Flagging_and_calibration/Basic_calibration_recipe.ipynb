{
 "cells": [
  {
   "cell_type": "code",
   "execution_count": 1,
   "metadata": {},
   "outputs": [],
   "source": [
    "msfile = 'ngc3621.ms'\n",
    "prefix='ngc3621'\n",
    "target='NGC3621'\n",
    "g_cal='1117-248'\n",
    "b_cal='0408-65'\n",
    "f_cal='0408-65'\n",
    "#ref_ant='m018'\n",
    "ref_ant='m003'"
   ]
  },
  {
   "cell_type": "markdown",
   "metadata": {},
   "source": [
    "### [Optional] W correction"
   ]
  },
  {
   "cell_type": "code",
   "execution_count": 2,
   "metadata": {},
   "outputs": [
    {
     "data": {
      "text/plain": [
       "True"
      ]
     },
     "execution_count": 2,
     "metadata": {},
     "output_type": "execute_result"
    },
    {
     "data": {
      "text/html": [
       "<button type=\"button\" class=\"btn btn-info\" data-toggle=\"collapse\" id=\"1585062702_53\" data-target=\"#log1585062702_53\" onclick=\"if ($('#'+this.id).html()=='Show log') {$('#'+this.id).html('Hide log')} else {$('#'+this.id).html('Show log')}; return false\">Show log</button> <div class=\"collapse\" id=\"log1585062702_53\">2020-03-24 15:11:42\tINFO\tfixvis::::\t\n",
       "<br>2020-03-24 15:11:42\tINFO\tfixvis::::+\t##########################################\n",
       "<br>2020-03-24 15:11:42\tINFO\tfixvis::::+\t##### Begin Task: fixvis             #####\n",
       "<br>2020-03-24 15:11:42\tINFO\tfixvis::::\tfixvis(vis=\"ngc3621.ms\",outputvis=\"ngc3621_fixvis.ms\",field=\"\",refcode=\"\",reuse=True,\n",
       "<br>2020-03-24 15:11:42\tINFO\tfixvis::::+\t        phasecenter=\"\",distances=\"\",datacolumn=\"all\")\n",
       "<br>2020-03-24 15:11:42\tINFO\tfixvis::::\tCopying original MS to outputvis ...\n",
       "<br>2020-03-24 15:11:42\tINFO\tfixvis::::\tWill leave phase centers unchanged.\n",
       "<br>2020-03-24 15:11:42\tINFO\tfixvis::::\tRecalculating the UVW coordinates ...\n",
       "<br>2020-03-24 15:11:42\tINFO\tImager::open() \tOpening MeasurementSet /home/jupyter/MeerKAT-Cookbook/casa/ngc3621_fixvis.ms\n",
       "<br>2020-03-24 15:11:42\tINFO\tSubMS::parseColumnNames()\tUsing DATA CORRECTED_DATA columns.\n",
       "<br>2020-03-24 15:11:42\tINFO\tFixVis::setFields\tSelecting fields 0 1 2 \n",
       "<br>2020-03-24 15:11:42\tINFO\tFixVis::calc_uvw\tThe UVWs are already in the desired frame - leaving them as is.\n",
       "<br>2020-03-24 15:11:43\tINFO\tfixvis::::\tCASA Version 5.5.0-149  \n",
       "<br>2020-03-24 15:11:43\tINFO\tfixvis::::\t\n",
       "<br>2020-03-24 15:11:43\tINFO\tfixvis::::\t##### End Task: fixvis               #####\n",
       "<br>2020-03-24 15:11:43\tINFO\tfixvis::::+\t##########################################\n",
       "</div>"
      ]
     },
     "metadata": {},
     "output_type": "display_data"
    }
   ],
   "source": [
    "fixvis(vis=msfile, outputvis=prefix+'_fixvis.ms')"
   ]
  },
  {
   "cell_type": "code",
   "execution_count": 3,
   "metadata": {},
   "outputs": [
    {
     "name": "stdout",
     "output_type": "stream",
     "text": [
      "ngc3621_fixvis.ms\n",
      "ngc3621_fixvis\n"
     ]
    }
   ],
   "source": [
    "msfile = prefix+'_fixvis.ms'\n",
    "prefix = prefix+'_fixvis'\n",
    "print(msfile)\n",
    "print(prefix)"
   ]
  },
  {
   "cell_type": "markdown",
   "metadata": {},
   "source": [
    "### Basics calibration steps"
   ]
  },
  {
   "cell_type": "code",
   "execution_count": 4,
   "metadata": {},
   "outputs": [
    {
     "data": {
      "text/html": [
       "<button type=\"button\" class=\"btn btn-info\" data-toggle=\"collapse\" id=\"1585062712_5\" data-target=\"#log1585062712_5\" onclick=\"if ($('#'+this.id).html()=='Show log') {$('#'+this.id).html('Hide log')} else {$('#'+this.id).html('Show log')}; return false\">Show log</button> <div class=\"collapse\" id=\"log1585062712_5\">2020-03-24 15:11:52\tINFO\tclearcal::::\t\n",
       "<br>2020-03-24 15:11:52\tINFO\tclearcal::::+\t##########################################\n",
       "<br>2020-03-24 15:11:52\tINFO\tclearcal::::+\t##### Begin Task: clearcal           #####\n",
       "<br>2020-03-24 15:11:52\tINFO\tclearcal::::\tclearcal(vis=\"ngc3621_fixvis.ms\",field=\"\",spw=\"\",intent=\"\",addmodel=False)\n",
       "<br>2020-03-24 15:11:52\tWARN\tclearcal::calibrater::setvi(bool,bool)\tForcing use of OLD VisibilityIterator.\n",
       "<br>2020-03-24 15:11:52\tINFO\tclearcal::calibrater::open\t****Using OLD VI-driven calibrater tool****\n",
       "<br>2020-03-24 15:11:52\tINFO\tclearcal::calibrater::open\tOpening MS: ngc3621_fixvis.ms for calibration.\n",
       "<br>2020-03-24 15:11:52\tINFO\tclearcal::Calibrater::\tInitializing nominal selection to the whole MS.\n",
       "<br>2020-03-24 15:11:52\tINFO\tclearcal::calibrater::setdata\tBeginning selectvis--(MSSelection version)-------\n",
       "<br>2020-03-24 15:11:52\tINFO\tclearcal::calibrater::reset\tReseting solve/apply state\n",
       "<br>2020-03-24 15:11:52\tINFO\tclearcal::Calibrater::selectvis\tPerforming selection on MeasurementSet\n",
       "<br>2020-03-24 15:11:52\tINFO\tclearcal::Calibrater::selectvis\tSelection did not drop any rows\n",
       "<br>2020-03-24 15:11:52\tINFO\tclearcal::Calibrater::selectvis\tFrequency selection: Selecting all channels in all spws.\n",
       "<br>2020-03-24 15:11:52\tINFO\tclearcal::calibrater::setdata\tchanmode=none nchan=1 start=0 step=1 mStart='0km/s' mStep='0km/s' msSelect=''\n",
       "<br>2020-03-24 15:11:52\tINFO\tclearcal::::\tClearing all model records in MS header.\n",
       "<br>2020-03-24 15:11:52\tINFO\tclearcal::::\t 0408-65 (id = 0) deleted.\n",
       "<br>2020-03-24 15:11:52\tINFO\tclearcal::calibrater::initcalset\tBeginning initcalset------------------------\n",
       "<br>2020-03-24 15:11:52\tINFO\tclearcal::VisSet::VisSet\tInitializing CORRECTED_DATA (to DATA)\n",
       "<br>2020-03-24 15:11:52\tINFO\tclearcal::VisSet::VisSet\tInitialized 15687 rows.\n",
       "<br>2020-03-24 15:11:52\tINFO\tclearcal::::\tCASA Version 5.5.0-149  \n",
       "<br>2020-03-24 15:11:52\tINFO\tclearcal::::\t\n",
       "<br>2020-03-24 15:11:52\tINFO\tclearcal::::\t##### End Task: clearcal             #####\n",
       "<br>2020-03-24 15:11:52\tINFO\tclearcal::::+\t##########################################\n",
       "</div>"
      ]
     },
     "metadata": {},
     "output_type": "display_data"
    }
   ],
   "source": [
    "clearcal(msfile)"
   ]
  },
  {
   "cell_type": "markdown",
   "metadata": {},
   "source": [
    "### Convert correlation coefficients to absolute flux densities"
   ]
  },
  {
   "cell_type": "code",
   "execution_count": 5,
   "metadata": {},
   "outputs": [
    {
     "data": {
      "text/plain": [
       "{'0': {'0': {'fluxd': array([ 17.10634985,   0.        ,   0.        ,   0.        ])},\n",
       "  'fieldName': '0408-65'},\n",
       " 'format': \"{field Id: {spw Id: {fluxd: [I,Q,U,V] in Jy}, 'fieldName':field name }}\"}"
      ]
     },
     "execution_count": 5,
     "metadata": {},
     "output_type": "execute_result"
    },
    {
     "data": {
      "text/html": [
       "<button type=\"button\" class=\"btn btn-info\" data-toggle=\"collapse\" id=\"1585062716_54\" data-target=\"#log1585062716_54\" onclick=\"if ($('#'+this.id).html()=='Show log') {$('#'+this.id).html('Hide log')} else {$('#'+this.id).html('Show log')}; return false\">Show log</button> <div class=\"collapse\" id=\"log1585062716_54\">2020-03-24 15:11:56\tINFO\tsetjy::::\t\n",
       "<br>2020-03-24 15:11:56\tINFO\tsetjy::::+\t##########################################\n",
       "<br>2020-03-24 15:11:56\tINFO\tsetjy::::+\t##### Begin Task: setjy              #####\n",
       "<br>2020-03-24 15:11:56\tINFO\tsetjy::::\tsetjy(vis=\"ngc3621_fixvis.ms\",field=\"0408-65\",spw=\"\",selectdata=False,timerange=\"\",\n",
       "<br>2020-03-24 15:11:56\tINFO\tsetjy::::+\t        scan=\"\",intent=\"\",observation=\"\",scalebychan=True,standard=\"manual\",\n",
       "<br>2020-03-24 15:11:56\tINFO\tsetjy::::+\t        model=\"\",modimage=\"\",listmodels=False,fluxdensity=[17.106349850349627, 0, 0, 0],spix=0.0,\n",
       "<br>2020-03-24 15:11:56\tINFO\tsetjy::::+\t        reffreq=\"1GHz\",polindex=[],polangle=[],rotmeas=0.0,fluxdict={},\n",
       "<br>2020-03-24 15:11:56\tINFO\tsetjy::::+\t        useephemdir=False,interpolation=\"nearest\",usescratch=False,ismms=False)\n",
       "<br>2020-03-24 15:11:56\tINFO\tsetjy::::\t{'field': '0408-65'}\n",
       "<br>2020-03-24 15:11:56\tINFO\tImager::open() \tOpening MeasurementSet /home/jupyter/MeerKAT-Cookbook/casa/ngc3621_fixvis.ms\n",
       "<br>2020-03-24 15:11:56\tINFO\tsetjy::::\tCASA Version 5.5.0-149  \n",
       "<br>2020-03-24 15:11:56\tINFO\tsetjy::::\t\n",
       "<br>2020-03-24 15:11:56\tINFO\timager::setjy()\tThe applied flux density does not depend on frequency.\n",
       "<br>2020-03-24 15:11:56\tINFO\timager::data selection\tSelected 3129 out of 15687 rows.\n",
       "<br>2020-03-24 15:11:56\tSEVERE\tMeasTable::dUTC(Double) (file /usr/local/casa/casacore/measures/Measures/MeasTable.cc, line 4290)\tLeap second table TAI_UTC seems out-of-date.\n",
       "<br>2020-03-24 15:11:56\tSEVERE\tMeasTable::dUTC(Double) (file /usr/local/casa/casacore/measures/Measures/MeasTable.cc, line 4290)+\tUntil the table is updated (see the CASA documentation or your system admin),\n",
       "<br>2020-03-24 15:11:56\tSEVERE\tMeasTable::dUTC(Double) (file /usr/local/casa/casacore/measures/Measures/MeasTable.cc, line 4290)+\ttimes and coordinates derived from UTC could be wrong by 1s or more.\n",
       "<br>2020-03-24 15:11:56\tINFO\timager::setjy()\tWill clear any existing model with matching field=0408-65 and spw=*\n",
       "<br>2020-03-24 15:11:56\tINFO\t\tClearing model records in MS header for selected fields.\n",
       "<br>2020-03-24 15:11:56\tINFO\t\t 0408-65 (id = 0) not found.\n",
       "<br>2020-03-24 15:11:56\tINFO\timager::data selection\tSelected 3129 out of 15687 rows.\n",
       "<br>2020-03-24 15:11:56\tINFO\timager::ft() \tFourier transforming: replacing visibility model header\n",
       "<br>2020-03-24 15:11:56\tINFO\timager::createSkyEquation() \tProcessing after subtracting componentlist /home/jupyter/MeerKAT-Cookbook/casa/ngc3621_fixvis.ms_setjy_spw0_0408-65_1GHz57851.6d.cl\n",
       "<br>2020-03-24 15:11:56\tINFO\timager::createFTMachine() \tPerforming interferometric gridding...\n",
       "<br>2020-03-24 15:11:57\tINFO\tsetjy::::\t##### End Task: setjy                #####\n",
       "<br>2020-03-24 15:11:57\tINFO\tsetjy::::+\t##########################################\n",
       "</div>"
      ]
     },
     "metadata": {},
     "output_type": "display_data"
    }
   ],
   "source": [
    "log_S = -0.9790 + 3.3662*np.log10(1284.) -1.1216*np.log10(1284.)**2 + 0.0861*np.log10(1284.)**3\n",
    "setjy(vis=msfile, field=f_cal, scalebychan=True, standard='manual', fluxdensity=[10**log_S,0,0,0])"
   ]
  },
  {
   "cell_type": "markdown",
   "metadata": {},
   "source": [
    "### Delay calibration using the flux cal\n",
    "Delays after calibration should be no more than a few nanoseconds"
   ]
  },
  {
   "cell_type": "code",
   "execution_count": 6,
   "metadata": {},
   "outputs": [],
   "source": [
    "ktable = prefix + '.K'"
   ]
  },
  {
   "cell_type": "code",
   "execution_count": 7,
   "metadata": {},
   "outputs": [
    {
     "data": {
      "text/html": [
       "<button type=\"button\" class=\"btn btn-info\" data-toggle=\"collapse\" id=\"1585062814_97\" data-target=\"#log1585062814_97\" onclick=\"if ($('#'+this.id).html()=='Show log') {$('#'+this.id).html('Hide log')} else {$('#'+this.id).html('Show log')}; return false\">Show log</button> <div class=\"collapse\" id=\"log1585062814_97\">2020-03-24 15:13:35\tINFO\trmtables::::\t\n",
       "<br>2020-03-24 15:13:35\tINFO\trmtables::::+\t##########################################\n",
       "<br>2020-03-24 15:13:35\tINFO\trmtables::::+\t##### Begin Task: rmtables           #####\n",
       "<br>2020-03-24 15:13:35\tINFO\trmtables::::\trmtables(tablenames=\"ngc3621_fixvis.K\")\n",
       "<br>2020-03-24 15:13:35\tWARN\trmtables::utils::removetable\tEmpty filename\n",
       "<br>2020-03-24 15:13:35\tWARN\trmtables::utils::removetable\tCannot delete file  because it's not a table.\n",
       "<br>2020-03-24 15:13:35\tINFO\trmtables::::\t##### End Task: rmtables             #####\n",
       "<br>2020-03-24 15:13:35\tINFO\trmtables::::+\t##########################################\n",
       "</div>"
      ]
     },
     "metadata": {},
     "output_type": "display_data"
    }
   ],
   "source": [
    "rmtables(ktable)"
   ]
  },
  {
   "cell_type": "code",
   "execution_count": 8,
   "metadata": {},
   "outputs": [
    {
     "data": {
      "text/html": [
       "<button type=\"button\" class=\"btn btn-info\" data-toggle=\"collapse\" id=\"1585062818_98\" data-target=\"#log1585062818_98\" onclick=\"if ($('#'+this.id).html()=='Show log') {$('#'+this.id).html('Hide log')} else {$('#'+this.id).html('Show log')}; return false\">Show log</button> <div class=\"collapse\" id=\"log1585062818_98\">2020-03-24 15:13:38\tINFO\tgaincal::::\t\n",
       "<br>2020-03-24 15:13:38\tINFO\tgaincal::::+\t##########################################\n",
       "<br>2020-03-24 15:13:38\tINFO\tgaincal::::+\t##### Begin Task: gaincal            #####\n",
       "<br>2020-03-24 15:13:38\tINFO\tgaincal::::\tgaincal(vis=\"ngc3621_fixvis.ms\",caltable=\"ngc3621_fixvis.K\",field=\"0408-65\",spw=\"\",intent=\"\",\n",
       "<br>2020-03-24 15:13:38\tINFO\tgaincal::::+\t        selectdata=True,timerange=\"\",uvrange=\"\",antenna=\"\",scan=\"\",\n",
       "<br>2020-03-24 15:13:38\tINFO\tgaincal::::+\t        observation=\"\",msselect=\"\",solint=\"inf\",combine=\"scan\",preavg=-1.0,\n",
       "<br>2020-03-24 15:13:38\tINFO\tgaincal::::+\t        refant=\"m003\",refantmode=\"flex\",minblperant=4,minsnr=3.0,solnorm=False,\n",
       "<br>2020-03-24 15:13:38\tINFO\tgaincal::::+\t        normtype=\"mean\",gaintype=\"K\",smodel=[],calmode=\"ap\",solmode=\"\",\n",
       "<br>2020-03-24 15:13:38\tINFO\tgaincal::::+\t        rmsthresh=[],append=False,splinetime=3600.0,npointaver=3,phasewrap=180.0,\n",
       "<br>2020-03-24 15:13:38\tINFO\tgaincal::::+\t        docallib=False,callib=\"\",gaintable=[],gainfield=[''],interp=[],\n",
       "<br>2020-03-24 15:13:38\tINFO\tgaincal::::+\t        spwmap=[],parang=False)\n",
       "<br>2020-03-24 15:13:38\tINFO\tgaincal::calibrater::open\t****Using NEW VI2-driven calibrater tool****\n",
       "<br>2020-03-24 15:13:38\tINFO\tgaincal::calibrater::open\tOpening MS: ngc3621_fixvis.ms for calibration.\n",
       "<br>2020-03-24 15:13:38\tINFO\tgaincal::Calibrater::\tInitializing nominal selection to the whole MS.\n",
       "<br>2020-03-24 15:13:38\tINFO\tgaincal::::\tNB: gaincal automatically excludes auto-correlations.\n",
       "<br>2020-03-24 15:13:38\tINFO\tcalibrater::setdata\tBeginning selectvis--(MSSelection version)-------\n",
       "<br>2020-03-24 15:13:38\tINFO\tcalibrater::reset\tReseting solve/apply state\n",
       "<br>2020-03-24 15:13:38\tINFO\tCalibrater::selectvis\tPerforming selection on MeasurementSet\n",
       "<br>2020-03-24 15:13:38\tINFO\tCalibrater::selectvis+\t Selecting on field: '0408-65'\n",
       "<br>2020-03-24 15:13:38\tINFO\tCalibrater::selectvis+\t Selecting with TaQL: 'ANTENNA1!=ANTENNA2'\n",
       "<br>2020-03-24 15:13:38\tINFO\tCalibrater::selectvis\tBy selection 15687 rows are reduced to 2235\n",
       "<br>2020-03-24 15:13:38\tINFO\tCalibrater::selectvis\tFrequency selection: Selecting all channels in all spws.\n",
       "<br>2020-03-24 15:13:38\tINFO\tcalibrater::setdata\tchanmode=none nchan=1 start=0 step=1 mStart='0km/s' mStep='0km/s' msSelect='ANTENNA1!=ANTENNA2'\n",
       "<br>2020-03-24 15:13:38\tINFO\tcalibrater::setsolve\tBeginning setsolve--(MSSelection version)-------\n",
       "<br>2020-03-24 15:13:38\tINFO\tCalibrater::setsolve\tArranging to SOLVE:\n",
       "<br>2020-03-24 15:13:38\tINFO\tCalibrater::setsolve\t.   K Jones: table=ngc3621_fixvis.K append=false solint=inf refantmode='flex' refant='m003' minsnr=3 apmode=AP solnorm=false\n",
       "<br>2020-03-24 15:13:38\tINFO\tcalibrater::solve\tBeginning solve-----------------------------\n",
       "<br>2020-03-24 15:13:38\tINFO\tCalibrater::solve\tThe following calibration terms are arranged for apply:\n",
       "<br>2020-03-24 15:13:38\tINFO\tCalibrater::solve\t.   (None)\n",
       "<br>2020-03-24 15:13:38\tINFO\tCalibrater::solve\tThe following calibration term is arranged for solve:\n",
       "<br>2020-03-24 15:13:38\tINFO\tCalibrater::solve\t.   K Jones: table=ngc3621_fixvis.K append=false solint=inf refantmode='flex' refant='m003' minsnr=3 apmode=AP solnorm=false\n",
       "<br>2020-03-24 15:13:38\tINFO\tCalibrater::solve\tFor solint = inf, found 1 solution intervals.\n",
       "<br>2020-03-24 15:13:39\tINFO\tCalibrater::solve\t  Found good K Jones solutions in 1 solution intervals.\n",
       "<br>2020-03-24 15:13:39\tINFO\t\tWriting solutions to table: ngc3621_fixvis.K\n",
       "<br>2020-03-24 15:13:39\tINFO\tcalibrater::solve\tFinished solving.\n",
       "<br>2020-03-24 15:13:39\tINFO\tgaincal::::\tCalibration solve statistics per spw:  (expected/attempted/succeeded):\n",
       "<br>2020-03-24 15:13:39\tINFO\tgaincal::::\t  Spw 0: 1/1/1\n",
       "<br>2020-03-24 15:13:39\tINFO\tgaincal::::\t##### End Task: gaincal              #####\n",
       "<br>2020-03-24 15:13:39\tINFO\tgaincal::::+\t##########################################\n",
       "</div>"
      ]
     },
     "metadata": {},
     "output_type": "display_data"
    }
   ],
   "source": [
    "gaincal(vis=msfile,\n",
    "        caltable=ktable,\n",
    "        field=f_cal,\n",
    "        gaintype='K',\n",
    "        solint='inf',\n",
    "        refant=ref_ant,\n",
    "        combine='scan',\n",
    "        solnorm=False,\n",
    "        minsnr=3.0,\n",
    "        gaintable=[])"
   ]
  },
  {
   "cell_type": "code",
   "execution_count": 10,
   "metadata": {},
   "outputs": [
    {
     "data": {
      "image/png": "[encoded data removed]",
      "text/plain": [
       "<Figure size 432x288 with 1 Axes>"
      ]
     },
     "metadata": {
      "needs_background": "light"
     },
     "output_type": "display_data"
    },
    {
     "data": {
      "text/html": [
       "<button type=\"button\" class=\"btn btn-info\" data-toggle=\"collapse\" id=\"1585062832_05\" data-target=\"#log1585062832_05\" onclick=\"if ($('#'+this.id).html()=='Show log') {$('#'+this.id).html('Hide log')} else {$('#'+this.id).html('Show log')}; return false\">Show log</button> <div class=\"collapse\" id=\"log1585062832_05\">2020-03-24 15:13:52\tINFO\tplotcal::::\t\n",
       "<br>2020-03-24 15:13:52\tINFO\tplotcal::::+\t##########################################\n",
       "<br>2020-03-24 15:13:52\tINFO\tplotcal::::+\t##### Begin Task: plotcal            #####\n",
       "<br>2020-03-24 15:13:52\tINFO\tplotcal::::\tplotcal(caltable=\"ngc3621_fixvis.K\",xaxis=\"antenna\",yaxis=\"delay\",poln=\"\",field=\"\",\n",
       "<br>2020-03-24 15:13:52\tINFO\tplotcal::::+\t        antenna=\"\",spw=\"\",timerange=\"\",subplot=111,overplot=False,\n",
       "<br>2020-03-24 15:13:52\tINFO\tplotcal::::+\t        clearpanel=\"Auto\",iteration=\"\",plotrange=[],showflags=False,plotsymbol=\"o\",\n",
       "<br>2020-03-24 15:13:52\tINFO\tplotcal::::+\t        plotcolor=\"blue\",markersize=5.0,fontsize=10.0,showgui=True,figfile=\"\")\n",
       "<br>2020-03-24 15:13:52\tINFO\ttableplot::setgui\tSwitching to GUI mode. All current plots  will be reset.\n",
       "<br>2020-03-24 15:13:52\tINFO\tplotcal::createCalTab \tDetected a NewCalTable!\n",
       "<br>2020-03-24 15:13:52\tINFO\t\tNow get the data\n",
       "<br>2020-03-24 15:13:52\tINFO\t\tDone Processing data ... \n",
       "<br>2020-03-24 15:13:52\tINFO\tplotcal::::\t##### End Task: plotcal              #####\n",
       "<br>2020-03-24 15:13:52\tINFO\tplotcal::::+\t##########################################\n",
       "</div>"
      ]
     },
     "metadata": {},
     "output_type": "display_data"
    }
   ],
   "source": [
    "plotcal(caltable=ktable,\n",
    "        xaxis='antenna',\n",
    "        yaxis='delay')"
   ]
  },
  {
   "cell_type": "markdown",
   "metadata": {},
   "source": [
    "### Through away calibration using the flux cal\n",
    "To stabilize time varying components, do a basic phase calibration"
   ]
  },
  {
   "cell_type": "code",
   "execution_count": 11,
   "metadata": {},
   "outputs": [],
   "source": [
    "gtable0 = prefix + '.G0'"
   ]
  },
  {
   "cell_type": "code",
   "execution_count": 12,
   "metadata": {},
   "outputs": [
    {
     "data": {
      "text/html": [
       "<button type=\"button\" class=\"btn btn-info\" data-toggle=\"collapse\" id=\"1585062837_89\" data-target=\"#log1585062837_89\" onclick=\"if ($('#'+this.id).html()=='Show log') {$('#'+this.id).html('Hide log')} else {$('#'+this.id).html('Show log')}; return false\">Show log</button> <div class=\"collapse\" id=\"log1585062837_89\">2020-03-24 15:13:58\tINFO\trmtables::::\t\n",
       "<br>2020-03-24 15:13:58\tINFO\trmtables::::+\t##########################################\n",
       "<br>2020-03-24 15:13:58\tINFO\trmtables::::+\t##### Begin Task: rmtables           #####\n",
       "<br>2020-03-24 15:13:58\tINFO\trmtables::::\trmtables(tablenames=\"ngc3621_fixvis.G0\")\n",
       "<br>2020-03-24 15:13:58\tWARN\trmtables::utils::removetable\tEmpty filename\n",
       "<br>2020-03-24 15:13:58\tWARN\trmtables::utils::removetable\tCannot delete file  because it's not a table.\n",
       "<br>2020-03-24 15:13:58\tINFO\trmtables::::\t##### End Task: rmtables             #####\n",
       "<br>2020-03-24 15:13:58\tINFO\trmtables::::+\t##########################################\n",
       "</div>"
      ]
     },
     "metadata": {},
     "output_type": "display_data"
    }
   ],
   "source": [
    "rmtables(gtable0)"
   ]
  },
  {
   "cell_type": "code",
   "execution_count": 13,
   "metadata": {},
   "outputs": [
    {
     "data": {
      "text/html": [
       "<button type=\"button\" class=\"btn btn-info\" data-toggle=\"collapse\" id=\"1585062841_38\" data-target=\"#log1585062841_38\" onclick=\"if ($('#'+this.id).html()=='Show log') {$('#'+this.id).html('Hide log')} else {$('#'+this.id).html('Show log')}; return false\">Show log</button> <div class=\"collapse\" id=\"log1585062841_38\">2020-03-24 15:13:59\tINFO\tgaincal::::\t\n",
       "<br>2020-03-24 15:13:59\tINFO\tgaincal::::+\t##########################################\n",
       "<br>2020-03-24 15:13:59\tINFO\tgaincal::::+\t##### Begin Task: gaincal            #####\n",
       "<br>2020-03-24 15:13:59\tINFO\tgaincal::::\tgaincal(vis=\"ngc3621_fixvis.ms\",caltable=\"ngc3621_fixvis.G0\",field=\"0408-65\",spw=\"\",intent=\"\",\n",
       "<br>2020-03-24 15:13:59\tINFO\tgaincal::::+\t        selectdata=True,timerange=\"\",uvrange=\"\",antenna=\"\",scan=\"\",\n",
       "<br>2020-03-24 15:13:59\tINFO\tgaincal::::+\t        observation=\"\",msselect=\"\",solint=\"int\",combine=\"\",preavg=-1.0,\n",
       "<br>2020-03-24 15:13:59\tINFO\tgaincal::::+\t        refant=\"m003\",refantmode=\"flex\",minblperant=4,minsnr=3.0,solnorm=True,\n",
       "<br>2020-03-24 15:13:59\tINFO\tgaincal::::+\t        normtype=\"mean\",gaintype=\"G\",smodel=[],calmode=\"p\",solmode=\"\",\n",
       "<br>2020-03-24 15:13:59\tINFO\tgaincal::::+\t        rmsthresh=[],append=False,splinetime=3600.0,npointaver=3,phasewrap=180.0,\n",
       "<br>2020-03-24 15:13:59\tINFO\tgaincal::::+\t        docallib=False,callib=\"\",gaintable=['ngc3621_fixvis.K'],gainfield=[''],interp=[],\n",
       "<br>2020-03-24 15:13:59\tINFO\tgaincal::::+\t        spwmap=[],parang=False)\n",
       "<br>2020-03-24 15:13:59\tINFO\tgaincal::calibrater::open\t****Using NEW VI2-driven calibrater tool****\n",
       "<br>2020-03-24 15:13:59\tINFO\tgaincal::calibrater::open\tOpening MS: ngc3621_fixvis.ms for calibration.\n",
       "<br>2020-03-24 15:13:59\tINFO\tgaincal::Calibrater::\tInitializing nominal selection to the whole MS.\n",
       "<br>2020-03-24 15:13:59\tINFO\tgaincal::::\tNB: gaincal automatically excludes auto-correlations.\n",
       "<br>2020-03-24 15:13:59\tINFO\tcalibrater::setdata\tBeginning selectvis--(MSSelection version)-------\n",
       "<br>2020-03-24 15:13:59\tINFO\tcalibrater::reset\tReseting solve/apply state\n",
       "<br>2020-03-24 15:13:59\tINFO\tCalibrater::selectvis\tPerforming selection on MeasurementSet\n",
       "<br>2020-03-24 15:13:59\tINFO\tCalibrater::selectvis+\t Selecting on field: '0408-65'\n",
       "<br>2020-03-24 15:13:59\tINFO\tCalibrater::selectvis+\t Selecting with TaQL: 'ANTENNA1!=ANTENNA2'\n",
       "<br>2020-03-24 15:13:59\tINFO\tCalibrater::selectvis\tBy selection 15687 rows are reduced to 2235\n",
       "<br>2020-03-24 15:13:59\tINFO\tCalibrater::selectvis\tFrequency selection: Selecting all channels in all spws.\n",
       "<br>2020-03-24 15:13:59\tINFO\tcalibrater::setdata\tchanmode=none nchan=1 start=0 step=1 mStart='0km/s' mStep='0km/s' msSelect='ANTENNA1!=ANTENNA2'\n",
       "<br>2020-03-24 15:13:59\tINFO\tcalibrater::setapply\tBeginning setapply--(MSSelection version)-------\n",
       "<br>2020-03-24 15:14:00\tINFO\tCalibrater::setapply(type, applypar)\tArranging to APPLY:\n",
       "<br>2020-03-24 15:14:00\tINFO\t\t (K Jones: Enforcing calWt()=false for phase/delay-like terms)\n",
       "<br>2020-03-24 15:14:00\tINFO\tCalibrater::setapply(type, applypar)\t.   K Jones: table=ngc3621_fixvis.K select= interp=linear spwmap=[-1] calWt=false\n",
       "<br>2020-03-24 15:14:00\tINFO\tcalibrater::setsolve\tBeginning setsolve--(MSSelection version)-------\n",
       "<br>2020-03-24 15:14:00\tINFO\tCalibrater::setsolve\tArranging to SOLVE:\n",
       "<br>2020-03-24 15:14:00\tINFO\tCalibrater::setsolve\t.   G Jones: table=ngc3621_fixvis.G0 append=false solint=int refantmode='flex' refant='m003' minsnr=3 apmode=P solnorm=true normtype=MEAN\n",
       "<br>2020-03-24 15:14:00\tINFO\tcalibrater::solve\tBeginning solve-----------------------------\n",
       "<br>2020-03-24 15:14:00\tINFO\tCalibrater::solve\tThe following calibration terms are arranged for apply:\n",
       "<br>2020-03-24 15:14:00\tINFO\tCalibrater::solve\t.   K Jones: table=ngc3621_fixvis.K select= interp=linear spwmap=[-1] calWt=false\n",
       "<br>2020-03-24 15:14:00\tINFO\tCalibrater::solve\tThe following calibration term is arranged for solve:\n",
       "<br>2020-03-24 15:14:00\tINFO\tCalibrater::solve\t.   G Jones: table=ngc3621_fixvis.G0 append=false solint=int refantmode='flex' refant='m003' minsnr=3 apmode=P solnorm=true normtype=MEAN\n",
       "<br>2020-03-24 15:14:00\tINFO\tChannelAverageTVI::parseConfiguration\tChannel bin is [-1]\n",
       "<br>2020-03-24 15:14:00\tINFO\tCalibrater::solve\tFor solint = int, found 149 solution intervals.\n",
       "<br>2020-03-24 15:14:01\tINFO\tCalibrater::solve\t  Found good G Jones solutions in 149 solution intervals.\n",
       "<br>2020-03-24 15:14:01\tINFO\t\tApplying refant: m003 refantmode = flex (hold alternate refants' phase constant) when refant flagged\n",
       "<br>2020-03-24 15:14:01\tINFO\t\tEnforcing apmode on solutions.\n",
       "<br>2020-03-24 15:14:01\tINFO\t\tNormalizing solution amplitudes per spw with MEAN\n",
       "<br>2020-03-24 15:14:01\tINFO\t\t Normalization factor (MEAN) for spw 0 = 1\n",
       "<br>2020-03-24 15:14:01\tINFO\t\tWriting solutions to table: ngc3621_fixvis.G0\n",
       "<br>2020-03-24 15:14:01\tINFO\tcalibrater::solve\tFinished solving.\n",
       "<br>2020-03-24 15:14:01\tINFO\tgaincal::::\tCalibration solve statistics per spw:  (expected/attempted/succeeded):\n",
       "<br>2020-03-24 15:14:01\tINFO\tgaincal::::\t  Spw 0: 149/149/149\n",
       "<br>2020-03-24 15:14:01\tINFO\tgaincal::::\t##### End Task: gaincal              #####\n",
       "<br>2020-03-24 15:14:01\tINFO\tgaincal::::+\t##########################################\n",
       "</div>"
      ]
     },
     "metadata": {},
     "output_type": "display_data"
    }
   ],
   "source": [
    "gaincal(vis=msfile,\n",
    "        caltable=gtable0,\n",
    "        field=f_cal,\n",
    "        solint='int',\n",
    "        refant=ref_ant,\n",
    "        gaintype='G',\n",
    "        solnorm=True,\n",
    "        calmode='p',\n",
    "        minsnr=3.0,\n",
    "        gaintable=[ktable])"
   ]
  },
  {
   "cell_type": "code",
   "execution_count": 14,
   "metadata": {},
   "outputs": [
    {
     "data": {
      "image/png": "[encoded data removed]",
      "text/plain": [
       "<Figure size 432x288 with 1 Axes>"
      ]
     },
     "metadata": {
      "needs_background": "light"
     },
     "output_type": "display_data"
    },
    {
     "data": {
      "text/html": [
       "<button type=\"button\" class=\"btn btn-info\" data-toggle=\"collapse\" id=\"1585062843_15\" data-target=\"#log1585062843_15\" onclick=\"if ($('#'+this.id).html()=='Show log') {$('#'+this.id).html('Hide log')} else {$('#'+this.id).html('Show log')}; return false\">Show log</button> <div class=\"collapse\" id=\"log1585062843_15\">2020-03-24 15:14:03\tINFO\tplotcal::::\t\n",
       "<br>2020-03-24 15:14:03\tINFO\tplotcal::::+\t##########################################\n",
       "<br>2020-03-24 15:14:03\tINFO\tplotcal::::+\t##### Begin Task: plotcal            #####\n",
       "<br>2020-03-24 15:14:03\tINFO\tplotcal::::\tplotcal(caltable=\"ngc3621_fixvis.G0\",xaxis=\"time\",yaxis=\"phase\",poln=\"\",field=\"\",\n",
       "<br>2020-03-24 15:14:03\tINFO\tplotcal::::+\t        antenna=\"\",spw=\"\",timerange=\"\",subplot=111,overplot=False,\n",
       "<br>2020-03-24 15:14:03\tINFO\tplotcal::::+\t        clearpanel=\"Auto\",iteration=\"\",plotrange=[-1, -1, -180, 180],showflags=False,plotsymbol=\"o\",\n",
       "<br>2020-03-24 15:14:03\tINFO\tplotcal::::+\t        plotcolor=\"blue\",markersize=5.0,fontsize=10.0,showgui=True,figfile=\"\")\n",
       "<br>2020-03-24 15:14:03\tINFO\ttableplot::setgui\tSwitching to GUI mode. All current plots  will be reset.\n",
       "<br>2020-03-24 15:14:03\tINFO\tplotcal::createCalTab \tDetected a NewCalTable!\n",
       "<br>2020-03-24 15:14:03\tINFO\t\tNow get the data\n",
       "<br>2020-03-24 15:14:03\tINFO\t\tDone Processing data ... \n",
       "<br>2020-03-24 15:14:03\tINFO\tplotcal::::\t##### End Task: plotcal              #####\n",
       "<br>2020-03-24 15:14:03\tINFO\tplotcal::::+\t##########################################\n",
       "</div>"
      ]
     },
     "metadata": {},
     "output_type": "display_data"
    }
   ],
   "source": [
    "plotcal(caltable=gtable0,\n",
    "        xaxis='time',\n",
    "        yaxis='phase',\n",
    "        plotrange = [-1, -1, -180, 180])"
   ]
  },
  {
   "cell_type": "markdown",
   "metadata": {},
   "source": [
    "### Solve for bandpass response using the flux cal"
   ]
  },
  {
   "cell_type": "code",
   "execution_count": 15,
   "metadata": {},
   "outputs": [],
   "source": [
    "btable = prefix + '.B'"
   ]
  },
  {
   "cell_type": "code",
   "execution_count": 16,
   "metadata": {},
   "outputs": [
    {
     "data": {
      "text/html": [
       "<button type=\"button\" class=\"btn btn-info\" data-toggle=\"collapse\" id=\"1585062852_94\" data-target=\"#log1585062852_94\" onclick=\"if ($('#'+this.id).html()=='Show log') {$('#'+this.id).html('Hide log')} else {$('#'+this.id).html('Show log')}; return false\">Show log</button> <div class=\"collapse\" id=\"log1585062852_94\">2020-03-24 15:14:13\tINFO\trmtables::::\t\n",
       "<br>2020-03-24 15:14:13\tINFO\trmtables::::+\t##########################################\n",
       "<br>2020-03-24 15:14:13\tINFO\trmtables::::+\t##### Begin Task: rmtables           #####\n",
       "<br>2020-03-24 15:14:13\tINFO\trmtables::::\trmtables(tablenames=\"ngc3621_fixvis.B\")\n",
       "<br>2020-03-24 15:14:13\tWARN\trmtables::utils::removetable\tEmpty filename\n",
       "<br>2020-03-24 15:14:13\tWARN\trmtables::utils::removetable\tCannot delete file  because it's not a table.\n",
       "<br>2020-03-24 15:14:13\tINFO\trmtables::::\t##### End Task: rmtables             #####\n",
       "<br>2020-03-24 15:14:13\tINFO\trmtables::::+\t##########################################\n",
       "</div>"
      ]
     },
     "metadata": {},
     "output_type": "display_data"
    }
   ],
   "source": [
    "rmtables(btable)"
   ]
  },
  {
   "cell_type": "code",
   "execution_count": 17,
   "metadata": {},
   "outputs": [
    {
     "data": {
      "text/html": [
       "<button type=\"button\" class=\"btn btn-info\" data-toggle=\"collapse\" id=\"1585062858_12\" data-target=\"#log1585062858_12\" onclick=\"if ($('#'+this.id).html()=='Show log') {$('#'+this.id).html('Hide log')} else {$('#'+this.id).html('Show log')}; return false\">Show log</button> <div class=\"collapse\" id=\"log1585062858_12\">2020-03-24 15:14:16\tINFO\tbandpass::::\t\n",
       "<br>2020-03-24 15:14:16\tINFO\tbandpass::::+\t##########################################\n",
       "<br>2020-03-24 15:14:16\tINFO\tbandpass::::+\t##### Begin Task: bandpass           #####\n",
       "<br>2020-03-24 15:14:16\tINFO\tbandpass::::\tbandpass(vis=\"ngc3621_fixvis.ms\",caltable=\"ngc3621_fixvis.B\",field=\"0408-65\",spw=\"\",intent=\"\",\n",
       "<br>2020-03-24 15:14:16\tINFO\tbandpass::::+\t        selectdata=True,timerange=\"\",uvrange=\"\",antenna=\"\",scan=\"\",\n",
       "<br>2020-03-24 15:14:16\tINFO\tbandpass::::+\t        observation=\"\",msselect=\"\",solint=\"inf\",combine=\"scan\",refant=\"m003\",\n",
       "<br>2020-03-24 15:14:16\tINFO\tbandpass::::+\t        minblperant=4,minsnr=3.0,solnorm=True,bandtype=\"B\",smodel=[],\n",
       "<br>2020-03-24 15:14:16\tINFO\tbandpass::::+\t        append=False,fillgaps=0,degamp=3,degphase=3,visnorm=False,\n",
       "<br>2020-03-24 15:14:16\tINFO\tbandpass::::+\t        maskcenter=0,maskedge=5,docallib=False,callib=\"\",gaintable=['ngc3621_fixvis.G0', 'ngc3621_fixvis.K'],\n",
       "<br>2020-03-24 15:14:16\tINFO\tbandpass::::+\t        gainfield=[''],interp=[],spwmap=[],parang=False)\n",
       "<br>2020-03-24 15:14:16\tINFO\tbandpass::calibrater::open\t****Using NEW VI2-driven calibrater tool****\n",
       "<br>2020-03-24 15:14:16\tINFO\tbandpass::calibrater::open\tOpening MS: ngc3621_fixvis.ms for calibration.\n",
       "<br>2020-03-24 15:14:16\tINFO\tbandpass::Calibrater::\tInitializing nominal selection to the whole MS.\n",
       "<br>2020-03-24 15:14:16\tINFO\tbandpass::calibrater::reset\tReseting solve/apply state\n",
       "<br>2020-03-24 15:14:16\tINFO\tbandpass::::\tNB: bandpass automatically excludes auto-correlations.\n",
       "<br>2020-03-24 15:14:16\tINFO\tcalibrater::setdata\tBeginning selectvis--(MSSelection version)-------\n",
       "<br>2020-03-24 15:14:16\tINFO\tcalibrater::reset\tReseting solve/apply state\n",
       "<br>2020-03-24 15:14:16\tINFO\tCalibrater::selectvis\tPerforming selection on MeasurementSet\n",
       "<br>2020-03-24 15:14:16\tINFO\tCalibrater::selectvis+\t Selecting on field: '0408-65'\n",
       "<br>2020-03-24 15:14:16\tINFO\tCalibrater::selectvis+\t Selecting with TaQL: 'ANTENNA1!=ANTENNA2'\n",
       "<br>2020-03-24 15:14:16\tINFO\tCalibrater::selectvis\tBy selection 15687 rows are reduced to 2235\n",
       "<br>2020-03-24 15:14:16\tINFO\tCalibrater::selectvis\tFrequency selection: Selecting all channels in all spws.\n",
       "<br>2020-03-24 15:14:16\tINFO\tcalibrater::setdata\tchanmode=none nchan=1 start=0 step=1 mStart='0km/s' mStep='0km/s' msSelect='ANTENNA1!=ANTENNA2'\n",
       "<br>2020-03-24 15:14:16\tINFO\tcalibrater::setapply\tBeginning setapply--(MSSelection version)-------\n",
       "<br>2020-03-24 15:14:16\tINFO\tCalibrater::setapply(type, applypar)\tArranging to APPLY:\n",
       "<br>2020-03-24 15:14:16\tINFO\tCalibrater::setapply(type, applypar)\t.   G Jones: table=ngc3621_fixvis.G0 select= interp=linear spwmap=[-1] calWt=true\n",
       "<br>2020-03-24 15:14:16\tINFO\tcalibrater::setapply\tBeginning setapply--(MSSelection version)-------\n",
       "<br>2020-03-24 15:14:16\tINFO\tCalibrater::setapply(type, applypar)\tArranging to APPLY:\n",
       "<br>2020-03-24 15:14:16\tINFO\t\t (K Jones: Enforcing calWt()=false for phase/delay-like terms)\n",
       "<br>2020-03-24 15:14:16\tINFO\tCalibrater::setapply(type, applypar)\t.   K Jones: table=ngc3621_fixvis.K select= interp=linear spwmap=[-1] calWt=false\n",
       "<br>2020-03-24 15:14:16\tINFO\tcalibrater::setsolve\tBeginning setsolve--(MSSelection version)-------\n",
       "<br>2020-03-24 15:14:16\tINFO\tCalibrater::setsolve\tArranging to SOLVE:\n",
       "<br>2020-03-24 15:14:16\tINFO\tCalibrater::setsolve\t.   B Jones: table=ngc3621_fixvis.B append=false solint=inf,none refantmode='flex' refant='m003' minsnr=3 apmode=AP solnorm=true normtype=MEAN\n",
       "<br>2020-03-24 15:14:16\tINFO\tcalibrater::solve\tBeginning solve-----------------------------\n",
       "<br>2020-03-24 15:14:16\tINFO\tCalibrater::solve\tThe following calibration terms are arranged for apply:\n",
       "<br>2020-03-24 15:14:16\tINFO\tCalibrater::solve\t.   K Jones: table=ngc3621_fixvis.K select= interp=linear spwmap=[-1] calWt=false\n",
       "<br>2020-03-24 15:14:16\tINFO\tCalibrater::solve\t.   G Jones: table=ngc3621_fixvis.G0 select= interp=linear spwmap=[-1] calWt=true\n",
       "<br>2020-03-24 15:14:16\tINFO\tCalibrater::solve\tThe following calibration term is arranged for solve:\n",
       "<br>2020-03-24 15:14:16\tINFO\tCalibrater::solve\t.   B Jones: table=ngc3621_fixvis.B append=false solint=inf,none refantmode='flex' refant='m003' minsnr=3 apmode=AP solnorm=true normtype=MEAN\n",
       "<br>2020-03-24 15:14:16\tINFO\tCalibrater::solve\tFor solint = inf, found 1 solution intervals.\n",
       "<br>2020-03-24 15:14:18\tINFO\tCalibrater::solve\t  Found good B Jones solutions in 1 solution intervals.\n",
       "<br>2020-03-24 15:14:18\tINFO\t\tApplying refant: m003 refantmode = flex (hold alternate refants' phase constant) when refant flagged\n",
       "<br>2020-03-24 15:14:18\tINFO\t\tNormalizing solutions per spw, time, ant, pol with MEAN in amplitude (and center channel in phase).\n",
       "<br>2020-03-24 15:14:18\tINFO\t\t Normalization factor (MEAN) for spw=0 time=2017/04/08/15:05:19.8 ant=0 pol 0 = 1.75682, 2.40158e-10deg\n",
       "<br>2020-03-24 15:14:18\tINFO\t\t Normalization factor (MEAN) for spw=0 time=2017/04/08/15:05:19.8 ant=0 pol 1 = 1.95015, -7.66279e-11deg\n",
       "<br>2020-03-24 15:14:18\tINFO\t\t Normalization factor (MEAN) for spw=0 time=2017/04/08/15:05:19.8 ant=1 pol 0 = 1.57754, -0.00820718deg\n",
       "<br>2020-03-24 15:14:18\tINFO\t\t Normalization factor (MEAN) for spw=0 time=2017/04/08/15:05:19.8 ant=1 pol 1 = 1.29535, -0.00889328deg\n",
       "<br>2020-03-24 15:14:18\tINFO\t\t Normalization factor (MEAN) for spw=0 time=2017/04/08/15:05:19.8 ant=2 pol 0 = 1.41592, -0.00100851deg\n",
       "<br>2020-03-24 15:14:18\tINFO\t\t Normalization factor (MEAN) for spw=0 time=2017/04/08/15:05:19.8 ant=2 pol 1 = 1.17101, 0.000485686deg\n",
       "<br>2020-03-24 15:14:18\tINFO\t\t Normalization factor (MEAN) for spw=0 time=2017/04/08/15:05:19.8 ant=3 pol 0 = 1.55218, -0.00361158deg\n",
       "<br>2020-03-24 15:14:18\tINFO\t\t Normalization factor (MEAN) for spw=0 time=2017/04/08/15:05:19.8 ant=3 pol 1 = 1.12838, -0.00386919deg\n",
       "<br>2020-03-24 15:14:18\tINFO\t\t Normalization factor (MEAN) for spw=0 time=2017/04/08/15:05:19.8 ant=4 pol 0 = 1.7962, 0.00138182deg\n",
       "<br>2020-03-24 15:14:18\tINFO\t\t Normalization factor (MEAN) for spw=0 time=2017/04/08/15:05:19.8 ant=4 pol 1 = 1.3332, 0.00538457deg\n",
       "<br>2020-03-24 15:14:18\tINFO\t\tWriting solutions to table: ngc3621_fixvis.B\n",
       "<br>2020-03-24 15:14:18\tINFO\tcalibrater::solve\tFinished solving.\n",
       "<br>2020-03-24 15:14:18\tINFO\tbandpass::::\t##### End Task: bandpass             #####\n",
       "<br>2020-03-24 15:14:18\tINFO\tbandpass::::+\t##########################################\n",
       "</div>"
      ]
     },
     "metadata": {},
     "output_type": "display_data"
    }
   ],
   "source": [
    "bandpass(vis=msfile,\n",
    "         caltable=btable,\n",
    "         field=b_cal,\n",
    "         refant=ref_ant,\n",
    "         solnorm=True,\n",
    "         combine='scan',\n",
    "         solint='inf',\n",
    "         bandtype='B',\n",
    "         minsnr=3.0,\n",
    "         gaintable=[gtable0, ktable])"
   ]
  },
  {
   "cell_type": "code",
   "execution_count": 18,
   "metadata": {},
   "outputs": [
    {
     "data": {
      "image/png": "[encoded data removed]",
      "text/plain": [
       "<Figure size 432x288 with 1 Axes>"
      ]
     },
     "metadata": {
      "needs_background": "light"
     },
     "output_type": "display_data"
    },
    {
     "data": {
      "text/html": [
       "<button type=\"button\" class=\"btn btn-info\" data-toggle=\"collapse\" id=\"1585062913_76\" data-target=\"#log1585062913_76\" onclick=\"if ($('#'+this.id).html()=='Show log') {$('#'+this.id).html('Hide log')} else {$('#'+this.id).html('Show log')}; return false\">Show log</button> <div class=\"collapse\" id=\"log1585062913_76\">2020-03-24 15:14:22\tINFO\tplotcal::::\t\n",
       "<br>2020-03-24 15:14:22\tINFO\tplotcal::::+\t##########################################\n",
       "<br>2020-03-24 15:14:22\tINFO\tplotcal::::+\t##### Begin Task: plotcal            #####\n",
       "<br>2020-03-24 15:14:22\tINFO\tplotcal::::\tplotcal(caltable=\"ngc3621_fixvis.B\",xaxis=\"chan\",yaxis=\"phase\",poln=\"\",field=\"0408-65\",\n",
       "<br>2020-03-24 15:14:22\tINFO\tplotcal::::+\t        antenna=\"\",spw=\"\",timerange=\"\",subplot=111,overplot=False,\n",
       "<br>2020-03-24 15:14:22\tINFO\tplotcal::::+\t        clearpanel=\"Auto\",iteration=\"\",plotrange=[-1, -1, -180, 180],showflags=False,plotsymbol=\"o\",\n",
       "<br>2020-03-24 15:14:22\tINFO\tplotcal::::+\t        plotcolor=\"blue\",markersize=5.0,fontsize=10.0,showgui=True,figfile=\"\")\n",
       "<br>2020-03-24 15:14:22\tINFO\ttableplot::setgui\tSwitching to GUI mode. All current plots  will be reset.\n",
       "<br>2020-03-24 15:14:22\tINFO\tplotcal::createCalTab \tDetected a NewCalTable!\n",
       "<br>2020-03-24 15:14:22\tINFO\t\tNow get the data\n",
       "<br>2020-03-24 15:14:22\tINFO\t\tDone Processing data ... \n",
       "<br>2020-03-24 15:15:10\tINFO\tplotcal::::\t##### End Task: plotcal              #####\n",
       "<br>2020-03-24 15:15:10\tINFO\tplotcal::::+\t##########################################\n",
       "</div>"
      ]
     },
     "metadata": {},
     "output_type": "display_data"
    }
   ],
   "source": [
    "plotcal(caltable=btable,\n",
    "        xaxis='chan',\n",
    "        yaxis='phase',\n",
    "        field=b_cal,\n",
    "        plotrange = [-1, -1, -180, 180])"
   ]
  },
  {
   "cell_type": "markdown",
   "metadata": {},
   "source": [
    "### Complex gain calibration"
   ]
  },
  {
   "cell_type": "code",
   "execution_count": 19,
   "metadata": {},
   "outputs": [],
   "source": [
    "gtable = prefix + '.G'"
   ]
  },
  {
   "cell_type": "code",
   "execution_count": 20,
   "metadata": {},
   "outputs": [
    {
     "data": {
      "text/html": [
       "<button type=\"button\" class=\"btn btn-info\" data-toggle=\"collapse\" id=\"1585062923_1\" data-target=\"#log1585062923_1\" onclick=\"if ($('#'+this.id).html()=='Show log') {$('#'+this.id).html('Hide log')} else {$('#'+this.id).html('Show log')}; return false\">Show log</button> <div class=\"collapse\" id=\"log1585062923_1\">2020-03-24 15:15:23\tINFO\trmtables::::\t\n",
       "<br>2020-03-24 15:15:23\tINFO\trmtables::::+\t##########################################\n",
       "<br>2020-03-24 15:15:23\tINFO\trmtables::::+\t##### Begin Task: rmtables           #####\n",
       "<br>2020-03-24 15:15:23\tINFO\trmtables::::\trmtables(tablenames=\"ngc3621_fixvis.G\")\n",
       "<br>2020-03-24 15:15:23\tWARN\trmtables::utils::removetable\tEmpty filename\n",
       "<br>2020-03-24 15:15:23\tWARN\trmtables::utils::removetable\tCannot delete file  because it's not a table.\n",
       "<br>2020-03-24 15:15:23\tINFO\trmtables::::\t##### End Task: rmtables             #####\n",
       "<br>2020-03-24 15:15:23\tINFO\trmtables::::+\t##########################################\n",
       "</div>"
      ]
     },
     "metadata": {},
     "output_type": "display_data"
    }
   ],
   "source": [
    "rmtables(gtable)"
   ]
  },
  {
   "cell_type": "code",
   "execution_count": 21,
   "metadata": {},
   "outputs": [
    {
     "data": {
      "text/html": [
       "<button type=\"button\" class=\"btn btn-info\" data-toggle=\"collapse\" id=\"1585062930_75\" data-target=\"#log1585062930_75\" onclick=\"if ($('#'+this.id).html()=='Show log') {$('#'+this.id).html('Hide log')} else {$('#'+this.id).html('Show log')}; return false\">Show log</button> <div class=\"collapse\" id=\"log1585062930_75\">2020-03-24 15:15:29\tINFO\tgaincal::::\t\n",
       "<br>2020-03-24 15:15:29\tINFO\tgaincal::::+\t##########################################\n",
       "<br>2020-03-24 15:15:29\tINFO\tgaincal::::+\t##### Begin Task: gaincal            #####\n",
       "<br>2020-03-24 15:15:29\tINFO\tgaincal::::\tgaincal(vis=\"ngc3621_fixvis.ms\",caltable=\"ngc3621_fixvis.G\",field=\"0408-65\",spw=\"\",intent=\"\",\n",
       "<br>2020-03-24 15:15:29\tINFO\tgaincal::::+\t        selectdata=True,timerange=\"\",uvrange=\"\",antenna=\"\",scan=\"\",\n",
       "<br>2020-03-24 15:15:29\tINFO\tgaincal::::+\t        observation=\"\",msselect=\"\",solint=\"int\",combine=\"spw\",preavg=-1.0,\n",
       "<br>2020-03-24 15:15:29\tINFO\tgaincal::::+\t        refant=\"m003\",refantmode=\"flex\",minblperant=4,minsnr=1.0,solnorm=False,\n",
       "<br>2020-03-24 15:15:29\tINFO\tgaincal::::+\t        normtype=\"mean\",gaintype=\"G\",smodel=[],calmode=\"ap\",solmode=\"\",\n",
       "<br>2020-03-24 15:15:29\tINFO\tgaincal::::+\t        rmsthresh=[],append=False,splinetime=3600.0,npointaver=3,phasewrap=180.0,\n",
       "<br>2020-03-24 15:15:29\tINFO\tgaincal::::+\t        docallib=False,callib=\"\",gaintable=['ngc3621_fixvis.B', 'ngc3621_fixvis.K'],gainfield=[''],interp=[],\n",
       "<br>2020-03-24 15:15:29\tINFO\tgaincal::::+\t        spwmap=[],parang=False)\n",
       "<br>2020-03-24 15:15:29\tINFO\tgaincal::calibrater::open\t****Using NEW VI2-driven calibrater tool****\n",
       "<br>2020-03-24 15:15:29\tINFO\tgaincal::calibrater::open\tOpening MS: ngc3621_fixvis.ms for calibration.\n",
       "<br>2020-03-24 15:15:29\tINFO\tgaincal::Calibrater::\tInitializing nominal selection to the whole MS.\n",
       "<br>2020-03-24 15:15:29\tINFO\tgaincal::::\tNB: gaincal automatically excludes auto-correlations.\n",
       "<br>2020-03-24 15:15:29\tINFO\tcalibrater::setdata\tBeginning selectvis--(MSSelection version)-------\n",
       "<br>2020-03-24 15:15:29\tINFO\tcalibrater::reset\tReseting solve/apply state\n",
       "<br>2020-03-24 15:15:29\tINFO\tCalibrater::selectvis\tPerforming selection on MeasurementSet\n",
       "<br>2020-03-24 15:15:29\tINFO\tCalibrater::selectvis+\t Selecting on field: '0408-65'\n",
       "<br>2020-03-24 15:15:29\tINFO\tCalibrater::selectvis+\t Selecting with TaQL: 'ANTENNA1!=ANTENNA2'\n",
       "<br>2020-03-24 15:15:29\tINFO\tCalibrater::selectvis\tBy selection 15687 rows are reduced to 2235\n",
       "<br>2020-03-24 15:15:29\tINFO\tCalibrater::selectvis\tFrequency selection: Selecting all channels in all spws.\n",
       "<br>2020-03-24 15:15:29\tINFO\tcalibrater::setdata\tchanmode=none nchan=1 start=0 step=1 mStart='0km/s' mStep='0km/s' msSelect='ANTENNA1!=ANTENNA2'\n",
       "<br>2020-03-24 15:15:29\tINFO\tcalibrater::setapply\tBeginning setapply--(MSSelection version)-------\n",
       "<br>2020-03-24 15:15:29\tINFO\tCalibrater::setapply(type, applypar)\tArranging to APPLY:\n",
       "<br>2020-03-24 15:15:29\tINFO\tCalibrater::setapply(type, applypar)\t.   B Jones: table=ngc3621_fixvis.B select= interp=linear,linear spwmap=[-1] calWt=true\n",
       "<br>2020-03-24 15:15:29\tINFO\tcalibrater::setapply\tBeginning setapply--(MSSelection version)-------\n",
       "<br>2020-03-24 15:15:29\tINFO\tCalibrater::setapply(type, applypar)\tArranging to APPLY:\n",
       "<br>2020-03-24 15:15:29\tINFO\t\t (K Jones: Enforcing calWt()=false for phase/delay-like terms)\n",
       "<br>2020-03-24 15:15:29\tINFO\tCalibrater::setapply(type, applypar)\t.   K Jones: table=ngc3621_fixvis.K select= interp=linear spwmap=[-1] calWt=false\n",
       "<br>2020-03-24 15:15:29\tINFO\tcalibrater::setsolve\tBeginning setsolve--(MSSelection version)-------\n",
       "<br>2020-03-24 15:15:29\tINFO\tCalibrater::setsolve\tArranging to SOLVE:\n",
       "<br>2020-03-24 15:15:29\tINFO\tCalibrater::setsolve\t.   G Jones: table=ngc3621_fixvis.G append=false solint=int refantmode='flex' refant='m003' minsnr=1 apmode=AP solnorm=false\n",
       "<br>2020-03-24 15:15:29\tINFO\tcalibrater::solve\tBeginning solve-----------------------------\n",
       "<br>2020-03-24 15:15:29\tINFO\tCalibrater::solve\tThe following calibration terms are arranged for apply:\n",
       "<br>2020-03-24 15:15:29\tINFO\tCalibrater::solve\t.   B Jones: table=ngc3621_fixvis.B select= interp=linear,linear spwmap=[-1] calWt=true\n",
       "<br>2020-03-24 15:15:29\tINFO\tCalibrater::solve\t.   K Jones: table=ngc3621_fixvis.K select= interp=linear spwmap=[-1] calWt=false\n",
       "<br>2020-03-24 15:15:29\tINFO\tCalibrater::solve\tThe following calibration term is arranged for solve:\n",
       "<br>2020-03-24 15:15:29\tINFO\tCalibrater::solve\t.   G Jones: table=ngc3621_fixvis.G append=false solint=int refantmode='flex' refant='m003' minsnr=1 apmode=AP solnorm=false\n",
       "<br>2020-03-24 15:15:29\tINFO\tChannelAverageTVI::parseConfiguration\tChannel bin is [-1]\n",
       "<br>2020-03-24 15:15:29\tINFO\tCalibrater::solve\tFor solint = int, found 149 solution intervals.\n",
       "<br>2020-03-24 15:15:30\tINFO\tCalibrater::solve\t  Found good G Jones solutions in 149 solution intervals.\n",
       "<br>2020-03-24 15:15:30\tINFO\t\tApplying refant: m003 refantmode = flex (hold alternate refants' phase constant) when refant flagged\n",
       "<br>2020-03-24 15:15:30\tINFO\t\tWriting solutions to table: ngc3621_fixvis.G\n",
       "<br>2020-03-24 15:15:31\tINFO\tcalibrater::solve\tFinished solving.\n",
       "<br>2020-03-24 15:15:31\tINFO\tgaincal::::\tCalibration solve statistics per spw:  (expected/attempted/succeeded):\n",
       "<br>2020-03-24 15:15:31\tINFO\tgaincal::::\t  Spw 0: 149/149/149\n",
       "<br>2020-03-24 15:15:31\tINFO\tgaincal::::\t##### End Task: gaincal              #####\n",
       "<br>2020-03-24 15:15:31\tINFO\tgaincal::::+\t##########################################\n",
       "</div>"
      ]
     },
     "metadata": {},
     "output_type": "display_data"
    }
   ],
   "source": [
    "gaincal(vis=msfile,\n",
    "        caltable=gtable,\n",
    "        field=f_cal,\n",
    "        solint='int',\n",
    "        refant=ref_ant,\n",
    "        combine='spw',\n",
    "        gaintype='G',\n",
    "        calmode='ap',\n",
    "        minsnr=1.0,\n",
    "        solnorm=False,\n",
    "        gaintable=[btable, ktable])"
   ]
  },
  {
   "cell_type": "code",
   "execution_count": 22,
   "metadata": {},
   "outputs": [
    {
     "data": {
      "text/html": [
       "<button type=\"button\" class=\"btn btn-info\" data-toggle=\"collapse\" id=\"1585062933_0\" data-target=\"#log1585062933_0\" onclick=\"if ($('#'+this.id).html()=='Show log') {$('#'+this.id).html('Hide log')} else {$('#'+this.id).html('Show log')}; return false\">Show log</button> <div class=\"collapse\" id=\"log1585062933_0\">2020-03-24 15:15:32\tINFO\tgaincal::::\t\n",
       "<br>2020-03-24 15:15:32\tINFO\tgaincal::::+\t##########################################\n",
       "<br>2020-03-24 15:15:32\tINFO\tgaincal::::+\t##### Begin Task: gaincal            #####\n",
       "<br>2020-03-24 15:15:32\tINFO\tgaincal::::\tgaincal(vis=\"ngc3621_fixvis.ms\",caltable=\"ngc3621_fixvis.G\",field=\"1117-248\",spw=\"\",intent=\"\",\n",
       "<br>2020-03-24 15:15:32\tINFO\tgaincal::::+\t        selectdata=True,timerange=\"\",uvrange=\"\",antenna=\"\",scan=\"\",\n",
       "<br>2020-03-24 15:15:32\tINFO\tgaincal::::+\t        observation=\"\",msselect=\"\",solint=\"int\",combine=\"spw\",preavg=-1.0,\n",
       "<br>2020-03-24 15:15:32\tINFO\tgaincal::::+\t        refant=\"m003\",refantmode=\"flex\",minblperant=4,minsnr=1.0,solnorm=False,\n",
       "<br>2020-03-24 15:15:32\tINFO\tgaincal::::+\t        normtype=\"mean\",gaintype=\"G\",smodel=[],calmode=\"ap\",solmode=\"\",\n",
       "<br>2020-03-24 15:15:32\tINFO\tgaincal::::+\t        rmsthresh=[],append=True,splinetime=3600.0,npointaver=3,phasewrap=180.0,\n",
       "<br>2020-03-24 15:15:32\tINFO\tgaincal::::+\t        docallib=False,callib=\"\",gaintable=['ngc3621_fixvis.B', 'ngc3621_fixvis.K'],gainfield=[''],interp=[],\n",
       "<br>2020-03-24 15:15:32\tINFO\tgaincal::::+\t        spwmap=[],parang=False)\n",
       "<br>2020-03-24 15:15:32\tINFO\tgaincal::calibrater::open\t****Using NEW VI2-driven calibrater tool****\n",
       "<br>2020-03-24 15:15:32\tINFO\tgaincal::calibrater::open\tOpening MS: ngc3621_fixvis.ms for calibration.\n",
       "<br>2020-03-24 15:15:32\tINFO\tgaincal::Calibrater::\tInitializing nominal selection to the whole MS.\n",
       "<br>2020-03-24 15:15:32\tINFO\tgaincal::::\tNB: gaincal automatically excludes auto-correlations.\n",
       "<br>2020-03-24 15:15:32\tINFO\tcalibrater::setdata\tBeginning selectvis--(MSSelection version)-------\n",
       "<br>2020-03-24 15:15:32\tINFO\tcalibrater::reset\tReseting solve/apply state\n",
       "<br>2020-03-24 15:15:32\tINFO\tCalibrater::selectvis\tPerforming selection on MeasurementSet\n",
       "<br>2020-03-24 15:15:32\tINFO\tCalibrater::selectvis+\t Selecting on field: '1117-248'\n",
       "<br>2020-03-24 15:15:32\tINFO\tCalibrater::selectvis+\t Selecting with TaQL: 'ANTENNA1!=ANTENNA2'\n",
       "<br>2020-03-24 15:15:32\tINFO\tCalibrater::selectvis\tBy selection 15687 rows are reduced to 2220\n",
       "<br>2020-03-24 15:15:32\tINFO\tCalibrater::selectvis\tFrequency selection: Selecting all channels in all spws.\n",
       "<br>2020-03-24 15:15:32\tINFO\tcalibrater::setdata\tchanmode=none nchan=1 start=0 step=1 mStart='0km/s' mStep='0km/s' msSelect='ANTENNA1!=ANTENNA2'\n",
       "<br>2020-03-24 15:15:32\tINFO\tcalibrater::setapply\tBeginning setapply--(MSSelection version)-------\n",
       "<br>2020-03-24 15:15:32\tINFO\tCalibrater::setapply(type, applypar)\tArranging to APPLY:\n",
       "<br>2020-03-24 15:15:32\tINFO\tCalibrater::setapply(type, applypar)\t.   B Jones: table=ngc3621_fixvis.B select= interp=linear,linear spwmap=[-1] calWt=true\n",
       "<br>2020-03-24 15:15:32\tINFO\tcalibrater::setapply\tBeginning setapply--(MSSelection version)-------\n",
       "<br>2020-03-24 15:15:32\tINFO\tCalibrater::setapply(type, applypar)\tArranging to APPLY:\n",
       "<br>2020-03-24 15:15:32\tINFO\t\t (K Jones: Enforcing calWt()=false for phase/delay-like terms)\n",
       "<br>2020-03-24 15:15:32\tINFO\tCalibrater::setapply(type, applypar)\t.   K Jones: table=ngc3621_fixvis.K select= interp=linear spwmap=[-1] calWt=false\n",
       "<br>2020-03-24 15:15:32\tINFO\tcalibrater::setsolve\tBeginning setsolve--(MSSelection version)-------\n",
       "<br>2020-03-24 15:15:32\tINFO\tCalibrater::setsolve\tArranging to SOLVE:\n",
       "<br>2020-03-24 15:15:32\tINFO\tCalibrater::setsolve\t.   G Jones: table=ngc3621_fixvis.G append=true solint=int refantmode='flex' refant='m003' minsnr=1 apmode=AP solnorm=false\n",
       "<br>2020-03-24 15:15:32\tINFO\tcalibrater::solve\tBeginning solve-----------------------------\n",
       "<br>2020-03-24 15:15:32\tINFO\tCalibrater::solve\tThe following calibration terms are arranged for apply:\n",
       "<br>2020-03-24 15:15:32\tINFO\tCalibrater::solve\t.   B Jones: table=ngc3621_fixvis.B select= interp=linear,linear spwmap=[-1] calWt=true\n",
       "<br>2020-03-24 15:15:32\tINFO\tCalibrater::solve\t.   K Jones: table=ngc3621_fixvis.K select= interp=linear spwmap=[-1] calWt=false\n",
       "<br>2020-03-24 15:15:32\tINFO\tCalibrater::solve\tThe following calibration term is arranged for solve:\n",
       "<br>2020-03-24 15:15:32\tINFO\tCalibrater::solve\t.   G Jones: table=ngc3621_fixvis.G append=true solint=int refantmode='flex' refant='m003' minsnr=1 apmode=AP solnorm=false\n",
       "<br>2020-03-24 15:15:32\tINFO\tChannelAverageTVI::parseConfiguration\tChannel bin is [-1]\n",
       "<br>2020-03-24 15:15:32\tINFO\tCalibrater::solve\tFor solint = int, found 148 solution intervals.\n",
       "<br>2020-03-24 15:15:33\tINFO\tCalibrater::solve\t  Found good G Jones solutions in 148 solution intervals.\n",
       "<br>2020-03-24 15:15:33\tINFO\t\tApplying refant: m003 refantmode = flex (hold alternate refants' phase constant) when refant flagged\n",
       "<br>2020-03-24 15:15:33\tINFO\t\tAppending solutions to table: ngc3621_fixvis.G\n",
       "<br>2020-03-24 15:15:33\tINFO\tcalibrater::solve\tFinished solving.\n",
       "<br>2020-03-24 15:15:33\tINFO\tgaincal::::\tCalibration solve statistics per spw:  (expected/attempted/succeeded):\n",
       "<br>2020-03-24 15:15:33\tINFO\tgaincal::::\t  Spw 0: 148/148/148\n",
       "<br>2020-03-24 15:15:33\tINFO\tgaincal::::\t##### End Task: gaincal              #####\n",
       "<br>2020-03-24 15:15:33\tINFO\tgaincal::::+\t##########################################\n",
       "</div>"
      ]
     },
     "metadata": {},
     "output_type": "display_data"
    }
   ],
   "source": [
    "gaincal(vis=msfile,\n",
    "        caltable=gtable,\n",
    "        field=g_cal,\n",
    "        solint='int',\n",
    "        refant=ref_ant,\n",
    "        combine='spw',\n",
    "        gaintype='G',\n",
    "        calmode='ap',\n",
    "        minsnr=1.0,\n",
    "        solnorm=False,\n",
    "        append=True,\n",
    "        gaintable=[btable, ktable])"
   ]
  },
  {
   "cell_type": "code",
   "execution_count": 23,
   "metadata": {},
   "outputs": [
    {
     "data": {
      "image/png": "[encoded data removed]",
      "text/plain": [
       "<Figure size 432x288 with 1 Axes>"
      ]
     },
     "metadata": {
      "needs_background": "light"
     },
     "output_type": "display_data"
    },
    {
     "data": {
      "text/html": [
       "<button type=\"button\" class=\"btn btn-info\" data-toggle=\"collapse\" id=\"1585062936_15\" data-target=\"#log1585062936_15\" onclick=\"if ($('#'+this.id).html()=='Show log') {$('#'+this.id).html('Hide log')} else {$('#'+this.id).html('Show log')}; return false\">Show log</button> <div class=\"collapse\" id=\"log1585062936_15\">2020-03-24 15:15:36\tINFO\tplotcal::::\t\n",
       "<br>2020-03-24 15:15:36\tINFO\tplotcal::::+\t##########################################\n",
       "<br>2020-03-24 15:15:36\tINFO\tplotcal::::+\t##### Begin Task: plotcal            #####\n",
       "<br>2020-03-24 15:15:36\tINFO\tplotcal::::\tplotcal(caltable=\"ngc3621_fixvis.G\",xaxis=\"time\",yaxis=\"phase\",poln=\"\",field=\"0408-65,1117-248\",\n",
       "<br>2020-03-24 15:15:36\tINFO\tplotcal::::+\t        antenna=\"\",spw=\"\",timerange=\"\",subplot=111,overplot=False,\n",
       "<br>2020-03-24 15:15:36\tINFO\tplotcal::::+\t        clearpanel=\"Auto\",iteration=\"\",plotrange=[-1, -1, -180, 180],showflags=False,plotsymbol=\"o\",\n",
       "<br>2020-03-24 15:15:36\tINFO\tplotcal::::+\t        plotcolor=\"blue\",markersize=5.0,fontsize=10.0,showgui=True,figfile=\"\")\n",
       "<br>2020-03-24 15:15:36\tINFO\ttableplot::setgui\tSwitching to GUI mode. All current plots  will be reset.\n",
       "<br>2020-03-24 15:15:36\tINFO\tplotcal::createCalTab \tDetected a NewCalTable!\n",
       "<br>2020-03-24 15:15:36\tINFO\t\tNow get the data\n",
       "<br>2020-03-24 15:15:36\tINFO\t\tDone Processing data ... \n",
       "<br>2020-03-24 15:15:36\tINFO\tplotcal::::\t##### End Task: plotcal              #####\n",
       "<br>2020-03-24 15:15:36\tINFO\tplotcal::::+\t##########################################\n",
       "</div>"
      ]
     },
     "metadata": {},
     "output_type": "display_data"
    }
   ],
   "source": [
    "plotcal(caltable=gtable,\n",
    "        xaxis='time',\n",
    "        yaxis='phase',\n",
    "        field=f_cal+','+g_cal,\n",
    "        plotrange=[-1, -1, -180, 180])"
   ]
  },
  {
   "cell_type": "markdown",
   "metadata": {},
   "source": [
    "### Flux calibration"
   ]
  },
  {
   "cell_type": "code",
   "execution_count": 24,
   "metadata": {},
   "outputs": [],
   "source": [
    "ftable = prefix + '.flux'"
   ]
  },
  {
   "cell_type": "code",
   "execution_count": 25,
   "metadata": {},
   "outputs": [
    {
     "data": {
      "text/html": [
       "<button type=\"button\" class=\"btn btn-info\" data-toggle=\"collapse\" id=\"1585062944_85\" data-target=\"#log1585062944_85\" onclick=\"if ($('#'+this.id).html()=='Show log') {$('#'+this.id).html('Hide log')} else {$('#'+this.id).html('Show log')}; return false\">Show log</button> <div class=\"collapse\" id=\"log1585062944_85\">2020-03-24 15:15:45\tINFO\trmtables::::\t\n",
       "<br>2020-03-24 15:15:45\tINFO\trmtables::::+\t##########################################\n",
       "<br>2020-03-24 15:15:45\tINFO\trmtables::::+\t##### Begin Task: rmtables           #####\n",
       "<br>2020-03-24 15:15:45\tINFO\trmtables::::\trmtables(tablenames=\"ngc3621_fixvis.flux\")\n",
       "<br>2020-03-24 15:15:45\tWARN\trmtables::utils::removetable\tEmpty filename\n",
       "<br>2020-03-24 15:15:45\tWARN\trmtables::utils::removetable\tCannot delete file  because it's not a table.\n",
       "<br>2020-03-24 15:15:45\tINFO\trmtables::::\t##### End Task: rmtables             #####\n",
       "<br>2020-03-24 15:15:45\tINFO\trmtables::::+\t##########################################\n",
       "</div>"
      ]
     },
     "metadata": {},
     "output_type": "display_data"
    }
   ],
   "source": [
    "rmtables(ftable)"
   ]
  },
  {
   "cell_type": "code",
   "execution_count": 26,
   "metadata": {},
   "outputs": [
    {
     "data": {
      "text/plain": [
       "{'2': {'0': {'fluxd': array([ 1.96640635,  0.        ,  0.        ,  0.        ]),\n",
       "   'fluxdErr': array([ 0.04938857,  0.        ,  0.        ,  0.        ]),\n",
       "   'numSol': array([ 10.,   0.,   0.,   0.])},\n",
       "  'covarMat': array([], shape=(0, 0), dtype=float64),\n",
       "  'fieldName': '1117-248',\n",
       "  'fitFluxd': 0.0,\n",
       "  'fitFluxdErr': 0.0,\n",
       "  'fitRefFreq': 0.0,\n",
       "  'spidx': array([ 0.,  0.]),\n",
       "  'spidxerr': array([ 0.,  0.])},\n",
       " 'freq': array([  1.41110168e+09]),\n",
       " 'spwID': array([0], dtype=int32),\n",
       " 'spwName': array(['none'],\n",
       "       dtype='|S5')}"
      ]
     },
     "execution_count": 26,
     "metadata": {},
     "output_type": "execute_result"
    },
    {
     "data": {
      "text/html": [
       "<button type=\"button\" class=\"btn btn-info\" data-toggle=\"collapse\" id=\"1585062947_3\" data-target=\"#log1585062947_3\" onclick=\"if ($('#'+this.id).html()=='Show log') {$('#'+this.id).html('Hide log')} else {$('#'+this.id).html('Show log')}; return false\">Show log</button> <div class=\"collapse\" id=\"log1585062947_3\">2020-03-24 15:15:47\tINFO\tfluxscale::::\t\n",
       "<br>2020-03-24 15:15:47\tINFO\tfluxscale::::+\t##########################################\n",
       "<br>2020-03-24 15:15:47\tINFO\tfluxscale::::+\t##### Begin Task: fluxscale          #####\n",
       "<br>2020-03-24 15:15:47\tINFO\tfluxscale::::\tfluxscale(vis=\"ngc3621_fixvis.ms\",caltable=\"ngc3621_fixvis.G\",fluxtable=\"ngc3621_fixvis.flux\",reference=\"0408-65\",transfer=\"1117-248\",\n",
       "<br>2020-03-24 15:15:47\tINFO\tfluxscale::::+\t        listfile=\"\",append=False,refspwmap=[-1],gainthreshold=-1.0,antenna=\"\",\n",
       "<br>2020-03-24 15:15:47\tINFO\tfluxscale::::+\t        timerange=\"\",scan=\"\",incremental=False,fitorder=1,display=False)\n",
       "<br>2020-03-24 15:15:47\tINFO\tfluxscale::calibrater::open\t****Using NEW VI2-driven calibrater tool****\n",
       "<br>2020-03-24 15:15:47\tINFO\tfluxscale::calibrater::open\tOpening MS: ngc3621_fixvis.ms for calibration.\n",
       "<br>2020-03-24 15:15:47\tINFO\tfluxscale::Calibrater::\tInitializing nominal selection to the whole MS.\n",
       "<br>2020-03-24 15:15:47\tINFO\tfluxscale::calibrater::fluxscale\tBeginning fluxscale--(MSSelection version)-------\n",
       "<br>2020-03-24 15:15:47\tINFO\tfluxscale::::\t Found reference field(s): 0408-65\n",
       "<br>2020-03-24 15:15:47\tINFO\tfluxscale::::\t Found transfer field(s):  1117-248\n",
       "<br>2020-03-24 15:15:47\tINFO\tfluxscale::::\t Flux density for 1117-248 in SpW=0 (freq=1.4111e+09 Hz) is: 1.96641 +/- 0.0493886 (SNR = 39.815, N = 10)\n",
       "<br>2020-03-24 15:15:47\tINFO\tfluxscale::Calibrater::fluxscale\tStoring result in ngc3621_fixvis.flux\n",
       "<br>2020-03-24 15:15:47\tINFO\tfluxscale::::\tWriting solutions to table: ngc3621_fixvis.flux\n",
       "<br>2020-03-24 15:15:47\tINFO\tfluxscale::::\tCASA Version 5.5.0-149  \n",
       "<br>2020-03-24 15:15:47\tINFO\tfluxscale::::\t\n",
       "<br>2020-03-24 15:15:47\tINFO\tfluxscale::::\t##### End Task: fluxscale            #####\n",
       "<br>2020-03-24 15:15:47\tINFO\tfluxscale::::+\t##########################################\n",
       "</div>"
      ]
     },
     "metadata": {},
     "output_type": "display_data"
    }
   ],
   "source": [
    "fluxscale(vis=msfile,\n",
    "          caltable=gtable,\n",
    "          fluxtable=ftable,\n",
    "          reference=f_cal,\n",
    "          transfer=g_cal)"
   ]
  },
  {
   "cell_type": "markdown",
   "metadata": {},
   "source": [
    "### Apply calibration separately to each source"
   ]
  },
  {
   "cell_type": "code",
   "execution_count": 27,
   "metadata": {},
   "outputs": [
    {
     "data": {
      "text/html": [
       "<button type=\"button\" class=\"btn btn-info\" data-toggle=\"collapse\" id=\"1585062953_81\" data-target=\"#log1585062953_81\" onclick=\"if ($('#'+this.id).html()=='Show log') {$('#'+this.id).html('Hide log')} else {$('#'+this.id).html('Show log')}; return false\">Show log</button> <div class=\"collapse\" id=\"log1585062953_81\">2020-03-24 15:15:53\tINFO\tapplycal::::\t\n",
       "<br>2020-03-24 15:15:53\tINFO\tapplycal::::+\t##########################################\n",
       "<br>2020-03-24 15:15:53\tINFO\tapplycal::::+\t##### Begin Task: applycal           #####\n",
       "<br>2020-03-24 15:15:53\tINFO\tapplycal::::\tapplycal(vis=\"ngc3621_fixvis.ms\",field=\"0408-65\",spw=\"\",intent=\"\",selectdata=True,\n",
       "<br>2020-03-24 15:15:53\tINFO\tapplycal::::+\t        timerange=\"\",uvrange=\"\",antenna=\"\",scan=\"\",observation=\"\",\n",
       "<br>2020-03-24 15:15:53\tINFO\tapplycal::::+\t        msselect=\"\",docallib=False,callib=\"\",gaintable=['ngc3621_fixvis.flux', 'ngc3621_fixvis.B', 'ngc3621_fixvis.K'],gainfield=['0408-65', '0408-65', '0408-65'],\n",
       "<br>2020-03-24 15:15:53\tINFO\tapplycal::::+\t        interp=['', 'nearest', ''],spwmap=[],calwt=False,parang=False,applymode=\"calflag\",\n",
       "<br>2020-03-24 15:15:53\tINFO\tapplycal::::+\t        flagbackup=True)\n",
       "<br>2020-03-24 15:15:53\tINFO\tapplycal::calibrater::open\t****Using NEW VI2-driven calibrater tool****\n",
       "<br>2020-03-24 15:15:53\tINFO\tapplycal::calibrater::open\tOpening MS: ngc3621_fixvis.ms for calibration.\n",
       "<br>2020-03-24 15:15:53\tINFO\tapplycal::Calibrater::\tInitializing nominal selection to the whole MS.\n",
       "<br>2020-03-24 15:15:53\tINFO\tapplycal::AgentFlagger::open\tTable type is Measurement Set\n",
       "<br>2020-03-24 15:15:53\tINFO\tFlagVersion::saveFlagVersion\tCreating new backup flag file called applycal_1\n",
       "<br>2020-03-24 15:15:53\tINFO\tcalibrater::setdata\tBeginning selectvis--(MSSelection version)-------\n",
       "<br>2020-03-24 15:15:53\tINFO\tcalibrater::reset\tReseting solve/apply state\n",
       "<br>2020-03-24 15:15:53\tINFO\tCalibrater::selectvis\tPerforming selection on MeasurementSet\n",
       "<br>2020-03-24 15:15:53\tINFO\tCalibrater::selectvis+\t Selecting on field: '0408-65'\n",
       "<br>2020-03-24 15:15:53\tINFO\tCalibrater::selectvis\tBy selection 15687 rows are reduced to 3129\n",
       "<br>2020-03-24 15:15:53\tINFO\tCalibrater::selectvis\tFrequency selection: Selecting all channels in all spws.\n",
       "<br>2020-03-24 15:15:53\tINFO\tcalibrater::setdata\tchanmode=none nchan=1 start=0 step=1 mStart='0km/s' mStep='0km/s' msSelect=''\n",
       "<br>2020-03-24 15:15:53\tINFO\tcalibrater::setapply\tBeginning setapply--(MSSelection version)-------\n",
       "<br>2020-03-24 15:15:53\tINFO\tCalibrater::setapply(type, applypar)\tArranging to APPLY:\n",
       "<br>2020-03-24 15:15:53\tINFO\tCalibrater::setapply(type, applypar)\t.   G Jones: table=ngc3621_fixvis.flux select= interp=linear spwmap=[-1] calWt=false\n",
       "<br>2020-03-24 15:15:53\tINFO\tcalibrater::setapply\tBeginning setapply--(MSSelection version)-------\n",
       "<br>2020-03-24 15:15:53\tINFO\tCalibrater::setapply(type, applypar)\tArranging to APPLY:\n",
       "<br>2020-03-24 15:15:53\tINFO\tCalibrater::setapply(type, applypar)\t.   B Jones: table=ngc3621_fixvis.B select= interp=nearest,linear spwmap=[-1] calWt=false\n",
       "<br>2020-03-24 15:15:53\tINFO\tcalibrater::setapply\tBeginning setapply--(MSSelection version)-------\n",
       "<br>2020-03-24 15:15:53\tINFO\tCalibrater::setapply(type, applypar)\tArranging to APPLY:\n",
       "<br>2020-03-24 15:15:53\tINFO\tCalibrater::setapply(type, applypar)\t.   K Jones: table=ngc3621_fixvis.K select= interp=linear spwmap=[-1] calWt=false\n",
       "<br>2020-03-24 15:15:53\tINFO\tcalibrater::correct\tBeginning correct---------------------------\n",
       "<br>2020-03-24 15:15:53\tINFO\tCalibrater::correct2 (VI2/VB2)\tThe following calibration terms are arranged for apply:\n",
       "<br>2020-03-24 15:15:53\tINFO\tCalibrater::correct2 (VI2/VB2)\t.   B Jones: table=ngc3621_fixvis.B select= interp=nearest,linear spwmap=[-1] calWt=false\n",
       "<br>2020-03-24 15:15:53\tINFO\tCalibrater::correct2 (VI2/VB2)\t.   K Jones: table=ngc3621_fixvis.K select= interp=linear spwmap=[-1] calWt=false\n",
       "<br>2020-03-24 15:15:53\tINFO\tCalibrater::correct2 (VI2/VB2)\t.   G Jones: table=ngc3621_fixvis.flux select= interp=linear spwmap=[-1] calWt=false\n",
       "<br>2020-03-24 15:15:54\tINFO\tcalibrater::correct\tFinished correcting.\n",
       "<br>2020-03-24 15:15:54\tINFO\tapplycal::::\tCalibration apply flagging statistics (among calibrateable spws):\n",
       "<br>2020-03-24 15:15:54\tINFO\tapplycal::::\t  Total visibilities selected for correction (ncorr x nchan x nrow summed over spws) = 5632200\n",
       "<br>2020-03-24 15:15:54\tINFO\tapplycal::::\t  Flags:\n",
       "<br>2020-03-24 15:15:54\tINFO\tapplycal::::\t   B Jones: In: 3242240 / 5632200   (57.5661375661%) --> Out: 3242240 / 5632200   (57.5661375661%) (ngc3621_fixvis.B)\n",
       "<br>2020-03-24 15:15:54\tINFO\tapplycal::::\t   K Jones: In: 3242240 / 5632200   (57.5661375661%) --> Out: 3242240 / 5632200   (57.5661375661%) (ngc3621_fixvis.K)\n",
       "<br>2020-03-24 15:15:54\tINFO\tapplycal::::\t   G Jones: In: 3242240 / 5632200   (57.5661375661%) --> Out: 3242240 / 5632200   (57.5661375661%) (ngc3621_fixvis.flux)\n",
       "<br>2020-03-24 15:15:54\tINFO\tapplycal::::\tCASA Version 5.5.0-149  \n",
       "<br>2020-03-24 15:15:54\tINFO\tapplycal::::\t\n",
       "<br>2020-03-24 15:15:54\tINFO\tapplycal::::\t##### End Task: applycal             #####\n",
       "<br>2020-03-24 15:15:54\tINFO\tapplycal::::+\t##########################################\n",
       "</div>"
      ]
     },
     "metadata": {},
     "output_type": "display_data"
    }
   ],
   "source": [
    "applycal(vis=msfile,\n",
    "         field=f_cal,\n",
    "         gaintable=[ftable, btable, ktable],\n",
    "         gainfield=[f_cal, f_cal, f_cal],\n",
    "         interp=['', 'nearest', ''],\n",
    "         calwt=False,\n",
    "         applymode='calflag')"
   ]
  },
  {
   "cell_type": "code",
   "execution_count": 28,
   "metadata": {
    "scrolled": false
   },
   "outputs": [
    {
     "data": {
      "image/png": "[encoded data removed]",
      "text/plain": [
       "<IPython.core.display.Image object>"
      ]
     },
     "metadata": {},
     "output_type": "display_data"
    },
    {
     "data": {
      "text/plain": [
       "True"
      ]
     },
     "execution_count": 28,
     "metadata": {},
     "output_type": "execute_result"
    },
    {
     "data": {
      "text/html": [
       "<button type=\"button\" class=\"btn btn-info\" data-toggle=\"collapse\" id=\"1585062968_59\" data-target=\"#log1585062968_59\" onclick=\"if ($('#'+this.id).html()=='Show log') {$('#'+this.id).html('Hide log')} else {$('#'+this.id).html('Show log')}; return false\">Show log</button> <div class=\"collapse\" id=\"log1585062968_59\">2020-03-24 15:16:05\tINFO\tplotms::::\t\n",
       "<br>2020-03-24 15:16:05\tINFO\tplotms::::+\t##########################################\n",
       "<br>2020-03-24 15:16:05\tINFO\tplotms::::+\t##### Begin Task: plotms             #####\n",
       "<br>2020-03-24 15:16:05\tINFO\tplotms::::\tplotms(vis=\"ngc3621_fixvis.ms\",gridrows=1,gridcols=1,rowindex=0,colindex=0,\n",
       "<br>2020-03-24 15:16:05\tINFO\tplotms::::+\t        plotindex=0,xaxis=\"time\",xdatacolumn=\"\",xframe=\"\",xinterp=\"\",\n",
       "<br>2020-03-24 15:16:05\tINFO\tplotms::::+\t        yaxis=\"amp\",ydatacolumn=\"corrected\",yframe=\"\",yinterp=\"\",yaxislocation=\"\",\n",
       "<br>2020-03-24 15:16:05\tINFO\tplotms::::+\t        selectdata=True,field=\"0408-65\",spw=\"\",timerange=\"\",uvrange=\"\",\n",
       "<br>2020-03-24 15:16:05\tINFO\tplotms::::+\t        antenna=\"\",scan=\"\",correlation=\"XX,YY\",array=\"\",observation=\"\",\n",
       "<br>2020-03-24 15:16:05\tINFO\tplotms::::+\t        intent=\"\",feed=\"\",msselect=\"\",averagedata=True,avgchannel=\"4096\",\n",
       "<br>2020-03-24 15:16:05\tINFO\tplotms::::+\t        avgtime=\"\",avgscan=False,avgfield=False,avgbaseline=True,avgantenna=False,\n",
       "<br>2020-03-24 15:16:05\tINFO\tplotms::::+\t        avgspw=False,scalar=False,transform=True,freqframe=\"\",restfreq=\"\",\n",
       "<br>2020-03-24 15:16:05\tINFO\tplotms::::+\t        veldef=\"RADIO\",shift=[0.0, 0.0],extendflag=False,extcorr=False,extchannel=False,\n",
       "<br>2020-03-24 15:16:05\tINFO\tplotms::::+\t        iteraxis=\"\",xselfscale=False,yselfscale=False,xsharedaxis=False,ysharedaxis=False,\n",
       "<br>2020-03-24 15:16:05\tINFO\tplotms::::+\t        customsymbol=False,symbolshape=\"autoscaling\",symbolsize=2,symbolcolor=\"0000ff\",symbolfill=\"fill\",\n",
       "<br>2020-03-24 15:16:05\tINFO\tplotms::::+\t        symboloutline=False,coloraxis=\"corr\",customflaggedsymbol=False,flaggedsymbolshape=\"circle\",flaggedsymbolsize=2,\n",
       "<br>2020-03-24 15:16:05\tINFO\tplotms::::+\t        flaggedsymbolcolor=\"ff0000\",flaggedsymbolfill=\"fill\",flaggedsymboloutline=False,xconnector=\"\",timeconnector=False,\n",
       "<br>2020-03-24 15:16:05\tINFO\tplotms::::+\t        plotrange=[],title=\"\",titlefont=0,xlabel=\"\",xaxisfont=0,\n",
       "<br>2020-03-24 15:16:05\tINFO\tplotms::::+\t        ylabel=\"\",yaxisfont=0,showmajorgrid=False,majorwidth=1,majorstyle=\"\",\n",
       "<br>2020-03-24 15:16:05\tINFO\tplotms::::+\t        majorcolor=\"B0B0B0\",showminorgrid=False,minorwidth=1,minorstyle=\"\",minorcolor=\"D0D0D0\",\n",
       "<br>2020-03-24 15:16:05\tINFO\tplotms::::+\t        showlegend=False,legendposition=\"\",plotfile=\"plotms_temp.png\",expformat=\"\",verbose=True,\n",
       "<br>2020-03-24 15:16:05\tINFO\tplotms::::+\t        exprange=\"\",highres=False,dpi=-1,width=-1,height=-1,\n",
       "<br>2020-03-24 15:16:05\tINFO\tplotms::::+\t        overwrite=True,showgui=False,clearplots=True,callib=[''],headeritems=\"\",\n",
       "<br>2020-03-24 15:16:05\tINFO\tplotms::::+\t        showatm=False,showtsky=False)\n",
       "<br>2020-03-24 15:16:07\tINFO\tPlotMS::params_changed\tUpdating: REDRAW, MSDATA, CACHE, AXES, CANVAS, DISPLAY, PAGEHEADER, ITERATION, LOG, PLOTMS_OPTIONS.\n",
       "<br>2020-03-24 15:16:07\tINFO\tPlotMS::load_cache\tClearing the existing plotms cache.\n",
       "<br>2020-03-24 15:16:07\tINFO\tPlotMS::params_changed\tUpdating: REDRAW, MSDATA, CACHE, AXES, CANVAS, DISPLAY, PAGEHEADER, ITERATION, LOG, PLOTMS_OPTIONS.\n",
       "<br>2020-03-24 15:16:07\tINFO\tPlotMS::load_cache\tClearing the existing plotms cache.\n",
       "<br>2020-03-24 15:16:07\tINFO\tPlotMS::load_cache\tSTART     Current memory usage: 2292.42 kilobytes.\n",
       "<br>2020-03-24 15:16:07\tINFO\tPlotMS::load_cache\tPlot Data Transformations:\n",
       "<br>2020-03-24 15:16:07\tINFO\tPlotMS::load_cache+\t Frame      = \n",
       "<br>2020-03-24 15:16:07\tINFO\tPlotMS::load_cache+\t VelDef     = RADIO\n",
       "<br>2020-03-24 15:16:07\tINFO\tPlotMS::load_cache+\t RestFreq   = 0 MHz\n",
       "<br>2020-03-24 15:16:07\tINFO\tPlotMS::load_cache+\t dX         = 0 arcsec\n",
       "<br>2020-03-24 15:16:07\tINFO\tPlotMS::load_cache+\t dY         = 0 arcsec\n",
       "<br>2020-03-24 15:16:07\tINFO\tPlotMS::load_cache+\t formStokes = false\n",
       "<br>2020-03-24 15:16:07\tINFO\tPlotMS::load_cache\tData Averaging: \n",
       "<br>2020-03-24 15:16:07\tINFO\tPlotMS::load_cache+\t Using VECTOR averaging.\n",
       "<br>2020-03-24 15:16:07\tINFO\tPlotMS::load_cache+\t Channel: 4096 channels\n",
       "<br>2020-03-24 15:16:07\tINFO\tPlotMS::load_cache+\t All Baselines: true\n",
       "<br>2020-03-24 15:16:07\tINFO\tPlotMS::load_cache\tPlot Data Calibration:\n",
       "<br>2020-03-24 15:16:07\tINFO\tPlotMS::load_cache+\t Use Calibration    = 0\n",
       "<br>2020-03-24 15:16:07\tINFO\tPlotMS::load_cache+\t Calibration Library   = \n",
       "<br>2020-03-24 15:16:07\tINFO\tPlotMS::load_cache\tCaching for the new plot: Amp(17):corrected vs. Time(2)...\n",
       "<br>2020-03-24 15:16:07\tINFO\tPlotMS::load_cache\tLoading page header cache\n",
       "<br>2020-03-24 15:16:08\tINFO\tPlotMS::load_cache\tData selection will yield a total of 6258 plottable points (flagged and unflagged).\n",
       "<br>2020-03-24 15:16:08\tINFO\tPlotMS::load_cache+\tThe plotms cache will require an estimated 8.2248e-05 GB of memory (13.1429 bytes/point).\n",
       "<br>2020-03-24 15:16:08\tINFO\tPlotMS::load_cache+\tThis is 0.000504206% of the memory avail. to CASA (16.3124 GB).\n",
       "<br>2020-03-24 15:16:08\tINFO\tPlotMS::load_cache\tLoading chunks with averaging.....\n",
       "<br>2020-03-24 15:16:08\tINFO\tPlotMS::load_cache\tGenerating the plot mask.\n",
       "<br>2020-03-24 15:16:08\tINFO\tPlotMS::load_cache\trefTime = 2017/04/08/00:00:00.0\n",
       "<br>2020-03-24 15:16:08\tINFO\tPlotMS::load_cache\tFinished loading.\n",
       "<br>2020-03-24 15:16:08\tINFO\tPlotMS::load_cache\tSetting up iteration indexing (if necessary), and calculating plot ranges.\n",
       "<br>2020-03-24 15:16:08\tINFO\tPlotMS::load_cache\tAxes ranges:\n",
       "<br>2020-03-24 15:16:08\tINFO\tPlotMS::load_cache+\tTime: 4.99838e+09 to 4.99838e+09 (unflagged); (no flagged data)\n",
       "<br>2020-03-24 15:16:08\tINFO\tPlotMS::load_cache+\tAmp:corrected: 17.0935 to 17.1064 (unflagged); (no flagged data)\n",
       "<br>2020-03-24 15:16:08\tINFO\tPlotMS::load_cache\tFinished indexing.\n",
       "<br>2020-03-24 15:16:07\tINFO\tPlotMS::load_cache\tEND       Time: +0 seconds.  Memory: +7491.34 kilobytes.\n",
       "<br>2020-03-24 15:16:08\tINFO\tPlotMS::plot\tPlotting 298 unflagged points.\n",
       "<br>2020-03-24 15:16:08\tINFO\tplotms::::\tPlot file /home/jupyter/MeerKAT-Cookbook/casa/plotms_temp.png\n",
       "<br>2020-03-24 15:16:08\tINFO\tplotms::::\tExporting the plot.\n",
       "<br>2020-03-24 15:16:09\tINFO\tQPExporter::export\tSTART     Current memory usage: 10244.2 kilobytes.\n",
       "<br>2020-03-24 15:16:09\tINFO\tQPExporter::export\tEND       Time: +0 seconds.  Memory: +46.9844 kilobytes.\n",
       "<br>2020-03-24 15:16:09\tINFO\tPlotMS::plot\tExported /home/jupyter/MeerKAT-Cookbook/casa/plotms_temp.png\n",
       "<br>2020-03-24 15:16:09\tINFO\tplotms::::\t##### End Task: plotms               #####\n",
       "<br>2020-03-24 15:16:09\tINFO\tplotms::::+\t##########################################\n",
       "</div>"
      ]
     },
     "metadata": {},
     "output_type": "display_data"
    }
   ],
   "source": [
    "plotms(vis=msfile,\n",
    "       xaxis='time',\n",
    "       yaxis='amp',\n",
    "       ydatacolumn='corrected',\n",
    "       correlation='XX,YY',\n",
    "       field=f_cal,\n",
    "       coloraxis='corr',\n",
    "       averagedata=True,\n",
    "       avgbaseline=True,\n",
    "       avgchannel='4096')"
   ]
  },
  {
   "cell_type": "code",
   "execution_count": 29,
   "metadata": {},
   "outputs": [
    {
     "data": {
      "text/html": [
       "<button type=\"button\" class=\"btn btn-info\" data-toggle=\"collapse\" id=\"1585062975_42\" data-target=\"#log1585062975_42\" onclick=\"if ($('#'+this.id).html()=='Show log') {$('#'+this.id).html('Hide log')} else {$('#'+this.id).html('Show log')}; return false\">Show log</button> <div class=\"collapse\" id=\"log1585062975_42\">2020-03-24 15:16:15\tINFO\tapplycal::::\t\n",
       "<br>2020-03-24 15:16:15\tINFO\tapplycal::::+\t##########################################\n",
       "<br>2020-03-24 15:16:15\tINFO\tapplycal::::+\t##### Begin Task: applycal           #####\n",
       "<br>2020-03-24 15:16:15\tINFO\tapplycal::::\tapplycal(vis=\"ngc3621_fixvis.ms\",field=\"1117-248\",spw=\"\",intent=\"\",selectdata=True,\n",
       "<br>2020-03-24 15:16:15\tINFO\tapplycal::::+\t        timerange=\"\",uvrange=\"\",antenna=\"\",scan=\"\",observation=\"\",\n",
       "<br>2020-03-24 15:16:15\tINFO\tapplycal::::+\t        msselect=\"\",docallib=False,callib=\"\",gaintable=['ngc3621_fixvis.flux', 'ngc3621_fixvis.B', 'ngc3621_fixvis.K'],gainfield=['1117-248', '0408-65', '0408-65'],\n",
       "<br>2020-03-24 15:16:15\tINFO\tapplycal::::+\t        interp=['', 'nearest', ''],spwmap=[],calwt=False,parang=False,applymode=\"calflag\",\n",
       "<br>2020-03-24 15:16:15\tINFO\tapplycal::::+\t        flagbackup=True)\n",
       "<br>2020-03-24 15:16:15\tINFO\tapplycal::calibrater::open\t****Using NEW VI2-driven calibrater tool****\n",
       "<br>2020-03-24 15:16:15\tINFO\tapplycal::calibrater::open\tOpening MS: ngc3621_fixvis.ms for calibration.\n",
       "<br>2020-03-24 15:16:15\tINFO\tapplycal::Calibrater::\tInitializing nominal selection to the whole MS.\n",
       "<br>2020-03-24 15:16:15\tINFO\tapplycal::AgentFlagger::open\tTable type is Measurement Set\n",
       "<br>2020-03-24 15:16:15\tINFO\tFlagVersion::saveFlagVersion\tCreating new backup flag file called applycal_2\n",
       "<br>2020-03-24 15:16:15\tINFO\tcalibrater::setdata\tBeginning selectvis--(MSSelection version)-------\n",
       "<br>2020-03-24 15:16:15\tINFO\tcalibrater::reset\tReseting solve/apply state\n",
       "<br>2020-03-24 15:16:15\tINFO\tCalibrater::selectvis\tPerforming selection on MeasurementSet\n",
       "<br>2020-03-24 15:16:15\tINFO\tCalibrater::selectvis+\t Selecting on field: '1117-248'\n",
       "<br>2020-03-24 15:16:15\tINFO\tCalibrater::selectvis\tBy selection 15687 rows are reduced to 3108\n",
       "<br>2020-03-24 15:16:15\tINFO\tCalibrater::selectvis\tFrequency selection: Selecting all channels in all spws.\n",
       "<br>2020-03-24 15:16:15\tINFO\tcalibrater::setdata\tchanmode=none nchan=1 start=0 step=1 mStart='0km/s' mStep='0km/s' msSelect=''\n",
       "<br>2020-03-24 15:16:15\tINFO\tcalibrater::setapply\tBeginning setapply--(MSSelection version)-------\n",
       "<br>2020-03-24 15:16:15\tINFO\tCalibrater::setapply(type, applypar)\tArranging to APPLY:\n",
       "<br>2020-03-24 15:16:15\tINFO\tCalibrater::setapply(type, applypar)\t.   G Jones: table=ngc3621_fixvis.flux select= interp=linear spwmap=[-1] calWt=false\n",
       "<br>2020-03-24 15:16:15\tINFO\tcalibrater::setapply\tBeginning setapply--(MSSelection version)-------\n",
       "<br>2020-03-24 15:16:15\tINFO\tCalibrater::setapply(type, applypar)\tArranging to APPLY:\n",
       "<br>2020-03-24 15:16:15\tINFO\tCalibrater::setapply(type, applypar)\t.   B Jones: table=ngc3621_fixvis.B select= interp=nearest,linear spwmap=[-1] calWt=false\n",
       "<br>2020-03-24 15:16:15\tINFO\tcalibrater::setapply\tBeginning setapply--(MSSelection version)-------\n",
       "<br>2020-03-24 15:16:15\tINFO\tCalibrater::setapply(type, applypar)\tArranging to APPLY:\n",
       "<br>2020-03-24 15:16:15\tINFO\tCalibrater::setapply(type, applypar)\t.   K Jones: table=ngc3621_fixvis.K select= interp=linear spwmap=[-1] calWt=false\n",
       "<br>2020-03-24 15:16:15\tINFO\tcalibrater::correct\tBeginning correct---------------------------\n",
       "<br>2020-03-24 15:16:15\tINFO\tCalibrater::correct2 (VI2/VB2)\tThe following calibration terms are arranged for apply:\n",
       "<br>2020-03-24 15:16:15\tINFO\tCalibrater::correct2 (VI2/VB2)\t.   B Jones: table=ngc3621_fixvis.B select= interp=nearest,linear spwmap=[-1] calWt=false\n",
       "<br>2020-03-24 15:16:15\tINFO\tCalibrater::correct2 (VI2/VB2)\t.   K Jones: table=ngc3621_fixvis.K select= interp=linear spwmap=[-1] calWt=false\n",
       "<br>2020-03-24 15:16:15\tINFO\tCalibrater::correct2 (VI2/VB2)\t.   G Jones: table=ngc3621_fixvis.flux select= interp=linear spwmap=[-1] calWt=false\n",
       "<br>2020-03-24 15:16:15\tINFO\tcalibrater::correct\tFinished correcting.\n",
       "<br>2020-03-24 15:16:15\tINFO\tapplycal::::\tCalibration apply flagging statistics (among calibrateable spws):\n",
       "<br>2020-03-24 15:16:15\tINFO\tapplycal::::\t  Total visibilities selected for correction (ncorr x nchan x nrow summed over spws) = 5594400\n",
       "<br>2020-03-24 15:16:15\tINFO\tapplycal::::\t  Flags:\n",
       "<br>2020-03-24 15:16:15\tINFO\tapplycal::::\t   B Jones: In: 3220480 / 5594400   (57.5661375661%) --> Out: 3220480 / 5594400   (57.5661375661%) (ngc3621_fixvis.B)\n",
       "<br>2020-03-24 15:16:15\tINFO\tapplycal::::\t   K Jones: In: 3220480 / 5594400   (57.5661375661%) --> Out: 3220480 / 5594400   (57.5661375661%) (ngc3621_fixvis.K)\n",
       "<br>2020-03-24 15:16:15\tINFO\tapplycal::::\t   G Jones: In: 3220480 / 5594400   (57.5661375661%) --> Out: 3220480 / 5594400   (57.5661375661%) (ngc3621_fixvis.flux)\n",
       "<br>2020-03-24 15:16:15\tINFO\tapplycal::::\tCASA Version 5.5.0-149  \n",
       "<br>2020-03-24 15:16:15\tINFO\tapplycal::::\t\n",
       "<br>2020-03-24 15:16:15\tINFO\tapplycal::::\t##### End Task: applycal             #####\n",
       "<br>2020-03-24 15:16:15\tINFO\tapplycal::::+\t##########################################\n",
       "</div>"
      ]
     },
     "metadata": {},
     "output_type": "display_data"
    }
   ],
   "source": [
    "applycal(vis=msfile,\n",
    "         field=g_cal,\n",
    "         gaintable=[ftable, btable, ktable],\n",
    "         gainfield=[g_cal, b_cal, f_cal],\n",
    "         interp=['', 'nearest', ''],\n",
    "         calwt=False,\n",
    "         applymode='calflag')"
   ]
  },
  {
   "cell_type": "code",
   "execution_count": 30,
   "metadata": {
    "scrolled": false
   },
   "outputs": [
    {
     "data": {
      "image/png": "[encoded data removed]",
      "text/plain": [
       "<IPython.core.display.Image object>"
      ]
     },
     "metadata": {},
     "output_type": "display_data"
    },
    {
     "data": {
      "text/plain": [
       "True"
      ]
     },
     "execution_count": 30,
     "metadata": {},
     "output_type": "execute_result"
    },
    {
     "data": {
      "text/html": [
       "<button type=\"button\" class=\"btn btn-info\" data-toggle=\"collapse\" id=\"1585062979_24\" data-target=\"#log1585062979_24\" onclick=\"if ($('#'+this.id).html()=='Show log') {$('#'+this.id).html('Hide log')} else {$('#'+this.id).html('Show log')}; return false\">Show log</button> <div class=\"collapse\" id=\"log1585062979_24\">2020-03-24 15:16:18\tINFO\tplotms::::\t\n",
       "<br>2020-03-24 15:16:18\tINFO\tplotms::::+\t##########################################\n",
       "<br>2020-03-24 15:16:18\tINFO\tplotms::::+\t##### Begin Task: plotms             #####\n",
       "<br>2020-03-24 15:16:18\tINFO\tplotms::::\tplotms(vis=\"ngc3621_fixvis.ms\",gridrows=1,gridcols=1,rowindex=0,colindex=0,\n",
       "<br>2020-03-24 15:16:18\tINFO\tplotms::::+\t        plotindex=0,xaxis=\"time\",xdatacolumn=\"\",xframe=\"\",xinterp=\"\",\n",
       "<br>2020-03-24 15:16:18\tINFO\tplotms::::+\t        yaxis=\"amp\",ydatacolumn=\"corrected\",yframe=\"\",yinterp=\"\",yaxislocation=\"\",\n",
       "<br>2020-03-24 15:16:18\tINFO\tplotms::::+\t        selectdata=True,field=\"1117-248\",spw=\"\",timerange=\"\",uvrange=\"\",\n",
       "<br>2020-03-24 15:16:18\tINFO\tplotms::::+\t        antenna=\"\",scan=\"\",correlation=\"XX,YY\",array=\"\",observation=\"\",\n",
       "<br>2020-03-24 15:16:18\tINFO\tplotms::::+\t        intent=\"\",feed=\"\",msselect=\"\",averagedata=True,avgchannel=\"4096\",\n",
       "<br>2020-03-24 15:16:18\tINFO\tplotms::::+\t        avgtime=\"\",avgscan=False,avgfield=False,avgbaseline=True,avgantenna=False,\n",
       "<br>2020-03-24 15:16:18\tINFO\tplotms::::+\t        avgspw=False,scalar=False,transform=True,freqframe=\"\",restfreq=\"\",\n",
       "<br>2020-03-24 15:16:18\tINFO\tplotms::::+\t        veldef=\"RADIO\",shift=[0.0, 0.0],extendflag=False,extcorr=False,extchannel=False,\n",
       "<br>2020-03-24 15:16:18\tINFO\tplotms::::+\t        iteraxis=\"\",xselfscale=False,yselfscale=False,xsharedaxis=False,ysharedaxis=False,\n",
       "<br>2020-03-24 15:16:18\tINFO\tplotms::::+\t        customsymbol=False,symbolshape=\"autoscaling\",symbolsize=2,symbolcolor=\"0000ff\",symbolfill=\"fill\",\n",
       "<br>2020-03-24 15:16:18\tINFO\tplotms::::+\t        symboloutline=False,coloraxis=\"corr\",customflaggedsymbol=False,flaggedsymbolshape=\"circle\",flaggedsymbolsize=2,\n",
       "<br>2020-03-24 15:16:18\tINFO\tplotms::::+\t        flaggedsymbolcolor=\"ff0000\",flaggedsymbolfill=\"fill\",flaggedsymboloutline=False,xconnector=\"\",timeconnector=False,\n",
       "<br>2020-03-24 15:16:18\tINFO\tplotms::::+\t        plotrange=[],title=\"\",titlefont=0,xlabel=\"\",xaxisfont=0,\n",
       "<br>2020-03-24 15:16:18\tINFO\tplotms::::+\t        ylabel=\"\",yaxisfont=0,showmajorgrid=False,majorwidth=1,majorstyle=\"\",\n",
       "<br>2020-03-24 15:16:18\tINFO\tplotms::::+\t        majorcolor=\"B0B0B0\",showminorgrid=False,minorwidth=1,minorstyle=\"\",minorcolor=\"D0D0D0\",\n",
       "<br>2020-03-24 15:16:18\tINFO\tplotms::::+\t        showlegend=False,legendposition=\"\",plotfile=\"plotms_temp.png\",expformat=\"\",verbose=True,\n",
       "<br>2020-03-24 15:16:18\tINFO\tplotms::::+\t        exprange=\"\",highres=False,dpi=-1,width=-1,height=-1,\n",
       "<br>2020-03-24 15:16:18\tINFO\tplotms::::+\t        overwrite=True,showgui=False,clearplots=True,callib=[''],headeritems=\"\",\n",
       "<br>2020-03-24 15:16:18\tINFO\tplotms::::+\t        showatm=False,showtsky=False)\n",
       "<br>2020-03-24 15:16:18\tINFO\tPlotMS::params_changed\tUpdating: REDRAW, MSDATA, CACHE, AXES, CANVAS, DISPLAY, PAGEHEADER, ITERATION, LOG, PLOTMS_OPTIONS.\n",
       "<br>2020-03-24 15:16:18\tINFO\tPlotMS::load_cache\tClearing the existing plotms cache.\n",
       "<br>2020-03-24 15:16:18\tINFO\tPlotMS::load_cache\tSTART     Current memory usage: 10649.6 kilobytes.\n",
       "<br>2020-03-24 15:16:18\tINFO\tPlotMS::load_cache\tPlot Data Transformations:\n",
       "<br>2020-03-24 15:16:18\tINFO\tPlotMS::load_cache+\t Frame      = \n",
       "<br>2020-03-24 15:16:18\tINFO\tPlotMS::load_cache+\t VelDef     = RADIO\n",
       "<br>2020-03-24 15:16:18\tINFO\tPlotMS::load_cache+\t RestFreq   = 0 MHz\n",
       "<br>2020-03-24 15:16:18\tINFO\tPlotMS::load_cache+\t dX         = 0 arcsec\n",
       "<br>2020-03-24 15:16:18\tINFO\tPlotMS::load_cache+\t dY         = 0 arcsec\n",
       "<br>2020-03-24 15:16:18\tINFO\tPlotMS::load_cache+\t formStokes = false\n",
       "<br>2020-03-24 15:16:18\tINFO\tPlotMS::load_cache\tData Averaging: \n",
       "<br>2020-03-24 15:16:18\tINFO\tPlotMS::load_cache+\t Using VECTOR averaging.\n",
       "<br>2020-03-24 15:16:18\tINFO\tPlotMS::load_cache+\t Channel: 4096 channels\n",
       "<br>2020-03-24 15:16:18\tINFO\tPlotMS::load_cache+\t All Baselines: true\n",
       "<br>2020-03-24 15:16:18\tINFO\tPlotMS::load_cache\tPlot Data Calibration:\n",
       "<br>2020-03-24 15:16:18\tINFO\tPlotMS::load_cache+\t Use Calibration    = 0\n",
       "<br>2020-03-24 15:16:18\tINFO\tPlotMS::load_cache+\t Calibration Library   = \n",
       "<br>2020-03-24 15:16:18\tINFO\tPlotMS::load_cache\tCaching for the new plot: Amp(17):corrected vs. Time(2)...\n",
       "<br>2020-03-24 15:16:18\tINFO\tPlotMS::load_cache\tLoading page header cache\n",
       "<br>2020-03-24 15:16:18\tINFO\tPlotMS::load_cache\tData selection will yield a total of 6216 plottable points (flagged and unflagged).\n",
       "<br>2020-03-24 15:16:18\tINFO\tPlotMS::load_cache+\tThe plotms cache will require an estimated 8.1696e-05 GB of memory (13.1429 bytes/point).\n",
       "<br>2020-03-24 15:16:18\tINFO\tPlotMS::load_cache+\tThis is 0.000500822% of the memory avail. to CASA (16.3124 GB).\n",
       "<br>2020-03-24 15:16:18\tINFO\tPlotMS::load_cache\tLoading chunks with averaging.....\n",
       "<br>2020-03-24 15:16:19\tINFO\tPlotMS::load_cache\tGenerating the plot mask.\n",
       "<br>2020-03-24 15:16:19\tINFO\tPlotMS::load_cache\trefTime = 2017/04/08/00:00:00.0\n",
       "<br>2020-03-24 15:16:19\tINFO\tPlotMS::load_cache\tFinished loading.\n",
       "<br>2020-03-24 15:16:19\tINFO\tPlotMS::load_cache\tSetting up iteration indexing (if necessary), and calculating plot ranges.\n",
       "<br>2020-03-24 15:16:19\tINFO\tPlotMS::load_cache\tAxes ranges:\n",
       "<br>2020-03-24 15:16:19\tINFO\tPlotMS::load_cache+\tTime: 4.99838e+09 to 4.99838e+09 (unflagged); (no flagged data)\n",
       "<br>2020-03-24 15:16:19\tINFO\tPlotMS::load_cache+\tAmp:corrected: 1.95931 to 1.98692 (unflagged); (no flagged data)\n",
       "<br>2020-03-24 15:16:19\tINFO\tPlotMS::load_cache\tFinished indexing.\n",
       "<br>2020-03-24 15:16:18\tINFO\tPlotMS::load_cache\tEND       Time: +1 seconds.  Memory: +3967.72 kilobytes.\n",
       "<br>2020-03-24 15:16:19\tINFO\tPlotMS::plot\tPlotting 296 unflagged points.\n",
       "<br>2020-03-24 15:16:19\tINFO\tplotms::::\tPlot file /home/jupyter/MeerKAT-Cookbook/casa/plotms_temp.png\n",
       "<br>2020-03-24 15:16:19\tINFO\tplotms::::\tExporting the plot.\n",
       "<br>2020-03-24 15:16:19\tINFO\tQPExporter::export\tSTART     Current memory usage: 14765.8 kilobytes.\n",
       "<br>2020-03-24 15:16:19\tINFO\tQPExporter::export\tEND       Time: +0 seconds.  Memory: +1.84375 kilobytes.\n",
       "<br>2020-03-24 15:16:19\tINFO\tPlotMS::plot\tExported /home/jupyter/MeerKAT-Cookbook/casa/plotms_temp.png\n",
       "<br>2020-03-24 15:16:19\tINFO\tplotms::::\t##### End Task: plotms               #####\n",
       "<br>2020-03-24 15:16:19\tINFO\tplotms::::+\t##########################################\n",
       "</div>"
      ]
     },
     "metadata": {},
     "output_type": "display_data"
    }
   ],
   "source": [
    "plotms(vis=msfile,\n",
    "       xaxis='time',\n",
    "       yaxis='amp',\n",
    "       ydatacolumn='corrected',\n",
    "       correlation='XX,YY',\n",
    "       field=g_cal,\n",
    "       coloraxis='corr',\n",
    "       averagedata=True,\n",
    "       avgbaseline=True,\n",
    "       avgchannel='4096')"
   ]
  },
  {
   "cell_type": "raw",
   "metadata": {},
   "source": []
  }
 ],
 "metadata": {
  "kernelspec": {
   "display_name": "Casa",
   "language": "casa",
   "name": "casapy"
  },
  "language_info": {
   "mimetype": "text/plain",
   "name": "Casa"
  }
 },
 "nbformat": 4,
 "nbformat_minor": 2
}
